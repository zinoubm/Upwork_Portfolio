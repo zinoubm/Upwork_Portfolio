{
  "cells": [
    {
      "cell_type": "markdown",
      "metadata": {
        "id": "view-in-github",
        "colab_type": "text"
      },
      "source": [
        "<a href=\"https://colab.research.google.com/github/zinoubm/Upwork_Portfolio/blob/main/Blood_Cell_Det.ipynb\" target=\"_parent\"><img src=\"https://colab.research.google.com/assets/colab-badge.svg\" alt=\"Open In Colab\"/></a>"
      ]
    },
    {
      "cell_type": "markdown",
      "source": [
        "# Introduction\n",
        "A complete blood count is one of the significant clinical tests that evaluates overall human health and provides relevant information for disease diagnosis. The conventional strategies of blood cell counting include manual counting as well as counting using the hemocytometer and are tedious and time-consuming tasks. \n",
        "In this project we will develop a software based solution, This will allow researchers and healtcare providers to achieve accurate and cost-effective results.\n",
        "We will not perform the counting, but we will provide a platform that will allow for multiple usecases by the users. "
      ],
      "metadata": {
        "id": "JBTaz6O9g7lP"
      }
    },
    {
      "cell_type": "markdown",
      "source": [
        "# Yolov5 Set Up"
      ],
      "metadata": {
        "id": "v-prPkuFfzQb"
      }
    },
    {
      "cell_type": "code",
      "execution_count": null,
      "metadata": {
        "id": "40RfA9YEDUjz"
      },
      "outputs": [],
      "source": [
        "from google.colab import output\n",
        "\n",
        "! git clone https://github.com/ultralytics/yolov5\n",
        "! pip install -r yolov5/requirements.txt\n",
        "\n",
        "output.clear()"
      ]
    },
    {
      "cell_type": "markdown",
      "source": [
        "# Importing Libraries"
      ],
      "metadata": {
        "id": "NWGsdUKFiMO5"
      }
    },
    {
      "cell_type": "code",
      "execution_count": null,
      "metadata": {
        "id": "2xd86WDtEwDE"
      },
      "outputs": [],
      "source": [
        "import torch\n",
        "from IPython.display import Image\n",
        "import os \n",
        "import random\n",
        "import shutil\n",
        "from sklearn.model_selection import train_test_split\n",
        "import xml.etree.ElementTree as ET\n",
        "from xml.dom import minidom\n",
        "from tqdm import tqdm\n",
        "from PIL import Image, ImageDraw\n",
        "import numpy as np\n",
        "import matplotlib.pyplot as plt\n",
        "\n",
        "random.seed(108)"
      ]
    },
    {
      "cell_type": "markdown",
      "source": [
        "# Getting the Data"
      ],
      "metadata": {
        "id": "w7l76rbaiRgf"
      }
    },
    {
      "cell_type": "code",
      "execution_count": null,
      "metadata": {
        "id": "9LGXCPCfFOeJ"
      },
      "outputs": [],
      "source": [
        "%mkdir blood_cell_dataset\n",
        "%cd blood_cell_dataset\n",
        "! cp ../drive/MyDrive/BCCD.v4-416x416_aug.voc.zip .\n",
        "! unzip BCCD.v4-416x416_aug.voc.zip\n",
        "\n",
        "output.clear()"
      ]
    },
    {
      "cell_type": "code",
      "execution_count": null,
      "metadata": {
        "id": "IpdlLhbbCZbx"
      },
      "outputs": [],
      "source": [
        "%rm -r BCCD.v4-416x416_aug.voc.zip"
      ]
    },
    {
      "cell_type": "code",
      "execution_count": null,
      "metadata": {
        "id": "0IQ8ucDdKUsn"
      },
      "outputs": [],
      "source": [
        "%mkdir /content/blood_cell_dataset/all_data /content/blood_cell_dataset/all_annot"
      ]
    },
    {
      "cell_type": "code",
      "execution_count": null,
      "metadata": {
        "id": "lDSdcsXDE59S"
      },
      "outputs": [],
      "source": [
        "from pathlib import Path\n",
        "\n",
        "root = Path('/content/blood_cell_dataset')\n",
        "folders = ['test', 'train', 'valid']\n",
        "dest_path_data = root / 'all_data'\n",
        "dest_path_annot = root / 'all_annot'\n",
        "def move_folder(folder_path, dest_path, type):\n",
        "  for file in folder_path.glob(f'*.{type}'):\n",
        "    file.rename(dest_path / file.name)\n",
        "\n",
        "folder_paths = [root / x for x in folders]\n",
        "\n",
        "for folder_path in folder_paths:\n",
        "  move_folder(folder_path, dest_path_data, \"jpg\")\n",
        "for folder_path in folder_paths:\n",
        "  move_folder(folder_path, dest_path_annot, \"xml\")"
      ]
    },
    {
      "cell_type": "code",
      "execution_count": null,
      "metadata": {
        "id": "h5LY1HznM3Q6"
      },
      "outputs": [],
      "source": [
        "%rm -r test train valid README.dataset.txt README.roboflow.txt"
      ]
    },
    {
      "cell_type": "markdown",
      "source": [
        "# Converting Xml annotations to Yolov5 representation"
      ],
      "metadata": {
        "id": "HZMPLKeXicnP"
      }
    },
    {
      "cell_type": "markdown",
      "source": [
        "Let's take a loot at the current representation."
      ],
      "metadata": {
        "id": "vd-4XsnZioJ_"
      }
    },
    {
      "cell_type": "code",
      "execution_count": null,
      "metadata": {
        "colab": {
          "base_uri": "https://localhost:8080/"
        },
        "id": "yojfLHBVX1o9",
        "outputId": "a6816fd4-caf8-4d05-b2b0-4211d19e1def"
      },
      "outputs": [
        {
          "output_type": "stream",
          "name": "stdout",
          "text": [
            "<annotation>\n",
            "\t<folder></folder>\n",
            "\t<filename>BloodImage_00383_jpg.rf.d1cd6ef5d4ae9b881c84a9b07fa53118.jpg</filename>\n",
            "\t<path>BloodImage_00383_jpg.rf.d1cd6ef5d4ae9b881c84a9b07fa53118.jpg</path>\n",
            "\t<source>\n",
            "\t\t<database>roboflow.ai</database>\n",
            "\t</source>\n",
            "\t<size>\n",
            "\t\t<width>416</width>\n",
            "\t\t<height>416</height>\n",
            "\t\t<depth>3</depth>\n",
            "\t</size>\n",
            "\t<segmented>0</segmented>\n",
            "\t<object>\n",
            "\t\t<name>RBC</name>\n",
            "\t\t<pose>Unspecified</pose>\n",
            "\t\t<truncated>0</truncated>\n",
            "\t\t<difficult>0</difficult>\n",
            "\t\t<occluded>0</occluded>\n",
            "\t\t<bndbox>\n",
            "\t\t\t<xmin>301</xmin>\n",
            "\t\t\t<xmax>375</xmax>\n",
            "\t\t\t<ymin>226</ymin>\n",
            "\t\t\t<ymax>304</ymax>\n",
            "\t\t</bndbox>\n",
            "\t</object>\n",
            "\t<object>\n",
            "\t\t<name>RBC</name>\n",
            "\t\t<pose>Unspecified</pose>\n",
            "\t\t<truncated>0</truncated>\n",
            "\t\t<difficult>0</difficult>\n",
            "\t\t<occluded>0</occluded>\n",
            "\t\t<bndbox>\n",
            "\t\t\t<xmin>86</xmin>\n",
            "\t\t\t<xmax>159</xmax>\n",
            "\t\t\t<ymin>73</ymin>\n",
            "\t\t\t<ymax>180</ymax>\n",
            "\t\t</bndbox>\n",
            "\t</object>\n",
            "\t<object>\n",
            "\t\t<name>RBC</name>\n",
            "\t\t<pose>Unspecified</pose>\n",
            "\t\t<truncated>0</truncated>\n",
            "\t\t<difficult>0</difficult>\n",
            "\t\t<occluded>0</occluded>\n",
            "\t\t<bndbox>\n",
            "\t\t\t<xmin>2</xmin>\n",
            "\t\t\t<xmax>69</xmax>\n",
            "\t\t\t<ymin>176</ymin>\n",
            "\t\t\t<ymax>284</ymax>\n",
            "\t\t</bndbox>\n",
            "\t</object>\n",
            "\t<object>\n",
            "\t\t<name>RBC</name>\n",
            "\t\t<pose>Unspecified</pose>\n",
            "\t\t<truncated>0</truncated>\n",
            "\t\t<difficult>0</difficult>\n",
            "\t\t<occluded>0</occluded>\n",
            "\t\t<bndbox>\n",
            "\t\t\t<xmin>356</xmin>\n",
            "\t\t\t<xmax>416</xmax>\n",
            "\t\t\t<ymin>28</ymin>\n",
            "\t\t\t<ymax>136</ymax>\n",
            "\t\t</bndbox>\n",
            "\t</object>\n",
            "\t<object>\n",
            "\t\t<name>RBC</name>\n",
            "\t\t<pose>Unspecified</pose>\n",
            "\t\t<truncated>0</truncated>\n",
            "\t\t<difficult>0</difficult>\n",
            "\t\t<occluded>0</occluded>\n",
            "\t\t<bndbox>\n",
            "\t\t\t<xmin>289</xmin>\n",
            "\t\t\t<xmax>367</xmax>\n",
            "\t\t\t<ymin>50</ymin>\n",
            "\t\t\t<ymax>154</ymax>\n",
            "\t\t</bndbox>\n",
            "\t</object>\n",
            "\t<object>\n",
            "\t\t<name>RBC</name>\n",
            "\t\t<pose>Unspecified</pose>\n",
            "\t\t<truncated>0</truncated>\n",
            "\t\t<difficult>0</difficult>\n",
            "\t\t<occluded>0</occluded>\n",
            "\t\t<bndbox>\n",
            "\t\t\t<xmin>302</xmin>\n",
            "\t\t\t<xmax>380</xmax>\n",
            "\t\t\t<ymin>114</ymin>\n",
            "\t\t\t<ymax>218</ymax>\n",
            "\t\t</bndbox>\n",
            "\t</object>\n",
            "\t<object>\n",
            "\t\t<name>RBC</name>\n",
            "\t\t<pose>Unspecified</pose>\n",
            "\t\t<truncated>0</truncated>\n",
            "\t\t<difficult>0</difficult>\n",
            "\t\t<occluded>0</occluded>\n",
            "\t\t<bndbox>\n",
            "\t\t\t<xmin>348</xmin>\n",
            "\t\t\t<xmax>416</xmax>\n",
            "\t\t\t<ymin>299</ymin>\n",
            "\t\t\t<ymax>396</ymax>\n",
            "\t\t</bndbox>\n",
            "\t</object>\n",
            "\t<object>\n",
            "\t\t<name>RBC</name>\n",
            "\t\t<pose>Unspecified</pose>\n",
            "\t\t<truncated>0</truncated>\n",
            "\t\t<difficult>0</difficult>\n",
            "\t\t<occluded>0</occluded>\n",
            "\t\t<bndbox>\n",
            "\t\t\t<xmin>136</xmin>\n",
            "\t\t\t<xmax>211</xmax>\n",
            "\t\t\t<ymin>2</ymin>\n",
            "\t\t\t<ymax>69</ymax>\n",
            "\t\t</bndbox>\n",
            "\t</object>\n",
            "\t<object>\n",
            "\t\t<name>Platelets</name>\n",
            "\t\t<pose>Unspecified</pose>\n",
            "\t\t<truncated>0</truncated>\n",
            "\t\t<difficult>0</difficult>\n",
            "\t\t<occluded>0</occluded>\n",
            "\t\t<bndbox>\n",
            "\t\t\t<xmin>371</xmin>\n",
            "\t\t\t<xmax>405</xmax>\n",
            "\t\t\t<ymin>192</ymin>\n",
            "\t\t\t<ymax>233</ymax>\n",
            "\t\t</bndbox>\n",
            "\t</object>\n",
            "\t<object>\n",
            "\t\t<name>Platelets</name>\n",
            "\t\t<pose>Unspecified</pose>\n",
            "\t\t<truncated>0</truncated>\n",
            "\t\t<difficult>0</difficult>\n",
            "\t\t<occluded>0</occluded>\n",
            "\t\t<bndbox>\n",
            "\t\t\t<xmin>262</xmin>\n",
            "\t\t\t<xmax>296</xmax>\n",
            "\t\t\t<ymin>181</ymin>\n",
            "\t\t\t<ymax>217</ymax>\n",
            "\t\t</bndbox>\n",
            "\t</object>\n",
            "\t<object>\n",
            "\t\t<name>Platelets</name>\n",
            "\t\t<pose>Unspecified</pose>\n",
            "\t\t<truncated>0</truncated>\n",
            "\t\t<difficult>0</difficult>\n",
            "\t\t<occluded>0</occluded>\n",
            "\t\t<bndbox>\n",
            "\t\t\t<xmin>367</xmin>\n",
            "\t\t\t<xmax>397</xmax>\n",
            "\t\t\t<ymin>2</ymin>\n",
            "\t\t\t<ymax>16</ymax>\n",
            "\t\t</bndbox>\n",
            "\t</object>\n",
            "\t<object>\n",
            "\t\t<name>WBC</name>\n",
            "\t\t<pose>Unspecified</pose>\n",
            "\t\t<truncated>0</truncated>\n",
            "\t\t<difficult>0</difficult>\n",
            "\t\t<occluded>0</occluded>\n",
            "\t\t<bndbox>\n",
            "\t\t\t<xmin>62</xmin>\n",
            "\t\t\t<xmax>268</xmax>\n",
            "\t\t\t<ymin>184</ymin>\n",
            "\t\t\t<ymax>416</ymax>\n",
            "\t\t</bndbox>\n",
            "\t</object>\n",
            "</annotation>\n"
          ]
        }
      ],
      "source": [
        "! cat ./all_annot/BloodImage_00383_jpg.rf.d1cd6ef5d4ae9b881c84a9b07fa53118.xml"
      ]
    },
    {
      "cell_type": "code",
      "execution_count": null,
      "metadata": {
        "id": "BHiiPd9-NMm8"
      },
      "outputs": [],
      "source": [
        "def get_xml_data(xml_file, log = False):\n",
        "  tree = ET.parse(xml_file)\n",
        "  root = tree.getroot()\n",
        "\n",
        "  info_dict = {}\n",
        "  info_dict[\"boxes\"] = []\n",
        "\n",
        "  info_dict[\"filename\"] = root.find('filename').text\n",
        "\n",
        "  info_dict[\"image_size\"] = tuple(int(subSize.text) for subSize in root.find(\"size\"))\n",
        "\n",
        "  for obj in root.iter('object'):\n",
        "    data = {}\n",
        "    data['class'] = obj.find('name').text\n",
        "    data['pose'] = obj.find('pose').text\n",
        "    data['truncated'] = obj.find('truncated').text\n",
        "    data['difficult'] = obj.find('difficult').text\n",
        "    data['occluded'] = obj.find('occluded').text\n",
        "    data['xmin'] = int(obj.find('bndbox').find('xmin').text)\n",
        "    data['xmax'] = int(obj.find('bndbox').find('xmax').text)\n",
        "    data['ymin'] = int(obj.find('bndbox').find('ymin').text)\n",
        "    data['ymax'] = int(obj.find('bndbox').find('ymax').text)\n",
        "\n",
        "    info_dict[\"boxes\"].append(data)\n",
        "\n",
        "  if log:\n",
        "    print(info_dict[\"filename\"])\n",
        "    print(info_dict[\"image_size\"])\n",
        "    print(info_dict[\"boxes\"])\n",
        "\n",
        "  return info_dict"
      ]
    },
    {
      "cell_type": "code",
      "execution_count": null,
      "metadata": {
        "id": "dpZTgZikc1D2"
      },
      "outputs": [],
      "source": [
        "class_name_to_id_mapping = {\n",
        "    \"WBC\" : 0,\n",
        "    \"RBC\" : 1,\n",
        "    \"Platelets\" : 2\n",
        "}\n",
        "\n",
        "def convert_to_yoloV5(info_dict):\n",
        "  print_buffer = []\n",
        "\n",
        "  for box in info_dict[\"boxes\"]:\n",
        "    try:\n",
        "      class_id = class_name_to_id_mapping[box[\"class\"]]\n",
        "    except:\n",
        "      print('invalid class')\n",
        "    \n",
        "    center_x = (box[\"xmin\"] + box[\"xmax\"])/2\n",
        "    center_y = (box[\"ymin\"] + box[\"ymax\"])/2\n",
        "    width = box[\"xmax\"] - box[\"xmin\"]\n",
        "    height = box[\"ymax\"] - box[\"ymin\"]\n",
        "\n",
        "    image_width, image_height, image_depth = info_dict[\"image_size\"]\n",
        "    center_x /= image_width\n",
        "    center_y /= image_height\n",
        "    width /= image_width\n",
        "    height /= image_height\n",
        " \n",
        "    print_buffer.append(f\"{class_id} {center_x:.3f} {center_y:.3f} {width:.3f} {height:.3f}\")\n",
        "\n",
        "  annotations = Path(\"all_annot\")\n",
        "  if not annotations.exists():\n",
        "    annotations.mkdir()\n",
        "  save_file_path = annotations / info_dict[\"filename\"].replace(\".jpg\", \".txt\")\n",
        "  if not save_file_path.exists():\n",
        "    save_file_path.touch()\n",
        "\n",
        "  print(\"\\n\".join(print_buffer), file = save_file_path.open(\"w\"))"
      ]
    },
    {
      "cell_type": "code",
      "execution_count": null,
      "metadata": {
        "id": "MvYdNAo2mqdP"
      },
      "outputs": [],
      "source": [
        "for xml_file in Path(\"all_annot\").glob(\"*.xml\"):\n",
        "  xml_info_dict = get_xml_data(xml_file, log = False)\n",
        "  convert_to_yoloV5(xml_info_dict)"
      ]
    },
    {
      "cell_type": "code",
      "execution_count": null,
      "metadata": {
        "id": "grUxmNfXnyRA"
      },
      "outputs": [],
      "source": [
        "final_annot = [txt_file for txt_file in Path(\"all_annot\").glob(\"*.txt\")]\n",
        "all_xml_annot = [xml_file for xml_file in Path(\"all_annot\").glob(\"*.xml\")]"
      ]
    },
    {
      "cell_type": "markdown",
      "source": [
        "Let's plot an image to check our transformation."
      ],
      "metadata": {
        "id": "BsDSKKJ2iyQI"
      }
    },
    {
      "cell_type": "code",
      "execution_count": null,
      "metadata": {
        "colab": {
          "base_uri": "https://localhost:8080/",
          "height": 269
        },
        "id": "Y58-42RJthpL",
        "outputId": "a7f587d0-a417-4340-bee9-329428f9498c"
      },
      "outputs": [
        {
          "output_type": "display_data",
          "data": {
            "text/plain": [
              "<Figure size 432x288 with 1 Axes>"
            ],
            "image/png": "[encoded data removed]"
          },
          "metadata": {
            "needs_background": "light"
          }
        }
      ],
      "source": [
        "class_id_to_name_mapping = dict(zip(class_name_to_id_mapping.values(), class_name_to_id_mapping.keys()))\n",
        "\n",
        "def plot_bounding_box(image, annotation_list):\n",
        "    annotations = np.array(annotation_list)\n",
        "    w, h = image.size\n",
        "    \n",
        "    plotted_image = ImageDraw.Draw(image)\n",
        "\n",
        "    transformed_annotations = np.copy(annotations)\n",
        "    transformed_annotations[:,[1,3]] = annotations[:,[1,3]] * w\n",
        "    transformed_annotations[:,[2,4]] = annotations[:,[2,4]] * h \n",
        "    \n",
        "    transformed_annotations[:,1] = transformed_annotations[:,1] - (transformed_annotations[:,3] / 2)\n",
        "    transformed_annotations[:,2] = transformed_annotations[:,2] - (transformed_annotations[:,4] / 2)\n",
        "    transformed_annotations[:,3] = transformed_annotations[:,1] + transformed_annotations[:,3]\n",
        "    transformed_annotations[:,4] = transformed_annotations[:,2] + transformed_annotations[:,4]\n",
        "    \n",
        "    for ann in transformed_annotations:\n",
        "        obj_cls, x0, y0, x1, y1 = ann\n",
        "        plotted_image.rectangle(((x0,y0), (x1,y1)))\n",
        "        \n",
        "        plotted_image.text((x0, y0 - 10), class_id_to_name_mapping[(int(obj_cls))])\n",
        "    \n",
        "    plt.imshow(np.array(image))\n",
        "    plt.show()\n",
        "\n",
        "# Get any random annotation file \n",
        "annotation_file = random.choice(final_annot)\n",
        "with open(annotation_file, \"r\") as file:\n",
        "    annotation_list = file.read().split(\"\\n\")[:-1]\n",
        "    annotation_list = [x.split(\" \") for x in annotation_list]\n",
        "    annotation_list = [[float(y) for y in x ] for x in annotation_list]\n",
        "\n",
        "#Get the corresponding image file\n",
        "image_file = str(annotation_file).replace(\"all_annot\", \"all_data\").replace(\"txt\", \"jpg\")\n",
        "assert os.path.exists(image_file)\n",
        "\n",
        "#Load the image\n",
        "image = Image.open(image_file)\n",
        "\n",
        "#Plot the Bounding Box\n",
        "plot_bounding_box(image, annotation_list)"
      ]
    },
    {
      "cell_type": "markdown",
      "source": [
        "# Splitting to Train and Test sets"
      ],
      "metadata": {
        "id": "IK6jsVRei_wA"
      }
    },
    {
      "cell_type": "code",
      "execution_count": null,
      "metadata": {
        "id": "-FPOjzo_uaKY"
      },
      "outputs": [],
      "source": [
        "images = [image for image in Path(\"all_data\").glob(\"*.jpg\")]\n",
        "annotations = [annot for annot in Path(\"all_annot\").glob(\"*.txt\")]\n",
        "images.sort()\n",
        "annotations.sort()\n",
        "\n",
        "train_images, val_images, train_annotations, val_annotations = train_test_split(images, annotations, test_size = 0.2, random_state = 1)\n",
        "val_images, test_images, val_annotations, test_annotations = train_test_split(val_images, val_annotations, test_size = 0.5, random_state = 1)"
      ]
    },
    {
      "cell_type": "code",
      "execution_count": null,
      "metadata": {
        "id": "b4NFmkQcPRB6"
      },
      "outputs": [],
      "source": [
        "%mkdir images/train images/val images/test annotations/train annotations/val annotations/test -p"
      ]
    },
    {
      "cell_type": "code",
      "execution_count": null,
      "metadata": {
        "id": "5mM7JNZyPywM"
      },
      "outputs": [],
      "source": [
        "def move_files_to_folder(files_list, destination_path):\n",
        "  destination_path = Path(destination_path)\n",
        "  for file in files_list:\n",
        "    if destination_path.exists():\n",
        "      file.rename(destination_path / file.name)\n",
        "\n",
        "move_files_to_folder(train_images, 'images/train')\n",
        "move_files_to_folder(val_images, 'images/val/')\n",
        "move_files_to_folder(test_images, 'images/test/')\n",
        "move_files_to_folder(train_annotations, 'annotations/train/')\n",
        "move_files_to_folder(val_annotations, 'annotations/val/')\n",
        "move_files_to_folder(test_annotations, 'annotations/test/')"
      ]
    },
    {
      "cell_type": "code",
      "execution_count": null,
      "metadata": {
        "id": "dpeFgPkrVLFY"
      },
      "outputs": [],
      "source": [
        "%rm -r all_annot all_data"
      ]
    },
    {
      "cell_type": "code",
      "execution_count": null,
      "metadata": {
        "colab": {
          "base_uri": "https://localhost:8080/"
        },
        "id": "0VKRKfnxVXV9",
        "outputId": "633f12ef-2e27-4c44-be6b-bda05192623b"
      },
      "outputs": [
        {
          "output_type": "stream",
          "name": "stdout",
          "text": [
            "/content/yolov5\n"
          ]
        }
      ],
      "source": [
        "%mv annotations labels\n",
        "%cd ../yolov5 "
      ]
    },
    {
      "cell_type": "markdown",
      "source": [
        "# Configuration"
      ],
      "metadata": {
        "id": "gqGKSWIujJQ2"
      }
    },
    {
      "cell_type": "code",
      "execution_count": null,
      "metadata": {
        "id": "uiNK8M99D8Tb"
      },
      "outputs": [],
      "source": [
        "!touch data/blood_cell.yaml\n",
        "\n",
        "data = '''train: ../blood_cell_dataset/images/train/ \n",
        "val:  ../blood_cell_dataset/images/val/\n",
        "test: ../blood_cell_dataset/images/test/\n",
        "\n",
        "# number of classes\n",
        "nc: 3\n",
        "\n",
        "# class names\n",
        "names: [\"WBC\",\"RBC\", \"Platelets\"]'''\n",
        "\n",
        "with open('/content/yolov5/data/blood_cell.yaml', 'a') as data_file:\n",
        "    data_file.write(data)"
      ]
    },
    {
      "cell_type": "code",
      "source": [
        "!touch data/hyp.scratch.yaml\n",
        "\n",
        "hyper_param = '''# Hyperparameters for COCO training from scratch\n",
        "# python train.py --batch 40 --cfg yolov5m.yaml --weights '' --data coco.yaml --img 640 --epochs 300\n",
        "# See tutorials for hyperparameter evolution https://github.com/ultralytics/yolov5#tutorials\n",
        "\n",
        "\n",
        "lr0: 0.01  # initial learning rate (SGD=1E-2, Adam=1E-3)\n",
        "lrf: 0.2  # final OneCycleLR learning rate (lr0 * lrf)\n",
        "momentum: 0.937  # SGD momentum/Adam beta1\n",
        "weight_decay: 0.0005  # optimizer weight decay 5e-4\n",
        "warmup_epochs: 3.0  # warmup epochs (fractions ok)\n",
        "warmup_momentum: 0.8  # warmup initial momentum\n",
        "warmup_bias_lr: 0.1  # warmup initial bias lr\n",
        "box: 0.05  # box loss gain\n",
        "cls: 0.5  # cls loss gain\n",
        "cls_pw: 1.0  # cls BCELoss positive_weight\n",
        "obj: 1.0  # obj loss gain (scale with pixels)\n",
        "obj_pw: 1.0  # obj BCELoss positive_weight\n",
        "iou_t: 0.20  # IoU training threshold\n",
        "anchor_t: 4.0  # anchor-multiple threshold\n",
        "# anchors: 3  # anchors per output layer (0 to ignore)\n",
        "fl_gamma: 0.0  # focal loss gamma (efficientDet default gamma=1.5)\n",
        "hsv_h: 0.015  # image HSV-Hue augmentation (fraction)\n",
        "hsv_s: 0.7  # image HSV-Saturation augmentation (fraction)\n",
        "hsv_v: 0.4  # image HSV-Value augmentation (fraction)\n",
        "degrees: 0.0  # image rotation (+/- deg)\n",
        "translate: 0.1  # image translation (+/- fraction)\n",
        "scale: 0.5  # image scale (+/- gain)\n",
        "shear: 0.0  # image shear (+/- deg)\n",
        "perspective: 0.0  # image perspective (+/- fraction), range 0-0.001\n",
        "flipud: 0.0  # image flip up-down (probability)\n",
        "fliplr: 0.5  # image flip left-right (probability)\n",
        "mosaic: 1.0  # image mosaic (probability)\n",
        "mixup: 0.0  # image mixup (probability)\n",
        "copy_paste: 0.0 # segment copy-paste (probability)'''\n",
        "\n",
        "with open('/content/yolov5/data/hyp.scratch.yaml', 'a') as hyper_param_file:\n",
        "    hyper_param_file.write(hyper_param)"
      ],
      "metadata": {
        "id": "adiR8Pf2fSMp"
      },
      "execution_count": null,
      "outputs": []
    },
    {
      "cell_type": "markdown",
      "source": [
        "# Training\n",
        "This saved note book is just for demonstration as an UpWork sample project so I just used 1 epoch, in the original notebook I used 100 epochs"
      ],
      "metadata": {
        "id": "YxUMP1CqjM1W"
      }
    },
    {
      "cell_type": "code",
      "execution_count": null,
      "metadata": {
        "colab": {
          "base_uri": "https://localhost:8080/"
        },
        "id": "n_0DJRLFDpBd",
        "outputId": "4fc610d2-5f97-4726-d120-6039e7ceac20"
      },
      "outputs": [
        {
          "output_type": "stream",
          "name": "stdout",
          "text": [
            "\u001b[34m\u001b[1mtrain: \u001b[0mweights=yolov5s.pt, cfg=yolov5s.yaml, data=blood_cell.yaml, hyp=hyp.scratch.yaml, epochs=1, batch_size=32, imgsz=640, rect=False, resume=False, nosave=False, noval=False, noautoanchor=False, noplots=False, evolve=None, bucket=, cache=None, image_weights=False, device=, multi_scale=False, single_cls=False, optimizer=SGD, sync_bn=False, workers=24, project=runs/train, name=yolo_blood_cell, exist_ok=False, quad=False, cos_lr=False, label_smoothing=0.0, patience=100, freeze=[0], save_period=-1, seed=0, local_rank=-1, entity=None, upload_dataset=False, bbox_interval=-1, artifact_alias=latest\n",
            "\u001b[34m\u001b[1mgithub: \u001b[0mup to date with https://github.com/ultralytics/yolov5 ✅\n",
            "YOLOv5 🚀 v7.0-53-g65071da Python-3.8.16 torch-1.13.0+cu116 CUDA:0 (Tesla T4, 15110MiB)\n",
            "\n",
            "\u001b[34m\u001b[1mhyperparameters: \u001b[0mlr0=0.01, lrf=0.2, momentum=0.937, weight_decay=0.0005, warmup_epochs=3.0, warmup_momentum=0.8, warmup_bias_lr=0.1, box=0.05, cls=0.5, cls_pw=1.0, obj=1.0, obj_pw=1.0, iou_t=0.2, anchor_t=4.0, fl_gamma=0.0, hsv_h=0.015, hsv_s=0.7, hsv_v=0.4, degrees=0.0, translate=0.1, scale=0.5, shear=0.0, perspective=0.0, flipud=0.0, fliplr=0.5, mosaic=1.0, mixup=0.0, copy_paste=0.0\n",
            "\u001b[34m\u001b[1mClearML: \u001b[0mrun 'pip install clearml' to automatically track, visualize and remotely train YOLOv5 🚀 in ClearML\n",
            "\u001b[34m\u001b[1mComet: \u001b[0mrun 'pip install comet_ml' to automatically track and visualize YOLOv5 🚀 runs in Comet\n",
            "\u001b[34m\u001b[1mTensorBoard: \u001b[0mStart with 'tensorboard --logdir runs/train', view at http://localhost:6006/\n",
            "Downloading https://ultralytics.com/assets/Arial.ttf to /root/.config/Ultralytics/Arial.ttf...\n",
            "100% 755k/755k [00:00<00:00, 108MB/s]\n",
            "Downloading https://github.com/ultralytics/yolov5/releases/download/v7.0/yolov5s.pt to yolov5s.pt...\n",
            "100% 14.1M/14.1M [00:00<00:00, 181MB/s]\n",
            "\n",
            "Overriding model.yaml nc=80 with nc=3\n",
            "\n",
            "                 from  n    params  module                                  arguments                     \n",
            "  0                -1  1      3520  models.common.Conv                      [3, 32, 6, 2, 2]              \n",
            "  1                -1  1     18560  models.common.Conv                      [32, 64, 3, 2]                \n",
            "  2                -1  1     18816  models.common.C3                        [64, 64, 1]                   \n",
            "  3                -1  1     73984  models.common.Conv                      [64, 128, 3, 2]               \n",
            "  4                -1  2    115712  models.common.C3                        [128, 128, 2]                 \n",
            "  5                -1  1    295424  models.common.Conv                      [128, 256, 3, 2]              \n",
            "  6                -1  3    625152  models.common.C3                        [256, 256, 3]                 \n",
            "  7                -1  1   1180672  models.common.Conv                      [256, 512, 3, 2]              \n",
            "  8                -1  1   1182720  models.common.C3                        [512, 512, 1]                 \n",
            "  9                -1  1    656896  models.common.SPPF                      [512, 512, 5]                 \n",
            " 10                -1  1    131584  models.common.Conv                      [512, 256, 1, 1]              \n",
            " 11                -1  1         0  torch.nn.modules.upsampling.Upsample    [None, 2, 'nearest']          \n",
            " 12           [-1, 6]  1         0  models.common.Concat                    [1]                           \n",
            " 13                -1  1    361984  models.common.C3                        [512, 256, 1, False]          \n",
            " 14                -1  1     33024  models.common.Conv                      [256, 128, 1, 1]              \n",
            " 15                -1  1         0  torch.nn.modules.upsampling.Upsample    [None, 2, 'nearest']          \n",
            " 16           [-1, 4]  1         0  models.common.Concat                    [1]                           \n",
            " 17                -1  1     90880  models.common.C3                        [256, 128, 1, False]          \n",
            " 18                -1  1    147712  models.common.Conv                      [128, 128, 3, 2]              \n",
            " 19          [-1, 14]  1         0  models.common.Concat                    [1]                           \n",
            " 20                -1  1    296448  models.common.C3                        [256, 256, 1, False]          \n",
            " 21                -1  1    590336  models.common.Conv                      [256, 256, 3, 2]              \n",
            " 22          [-1, 10]  1         0  models.common.Concat                    [1]                           \n",
            " 23                -1  1   1182720  models.common.C3                        [512, 512, 1, False]          \n",
            " 24      [17, 20, 23]  1     21576  models.yolo.Detect                      [3, [[10, 13, 16, 30, 33, 23], [30, 61, 62, 45, 59, 119], [116, 90, 156, 198, 373, 326]], [128, 256, 512]]\n",
            "YOLOv5s summary: 214 layers, 7027720 parameters, 7027720 gradients, 16.0 GFLOPs\n",
            "\n",
            "Transferred 342/349 items from yolov5s.pt\n",
            "\u001b[34m\u001b[1mAMP: \u001b[0mchecks passed ✅\n",
            "\u001b[34m\u001b[1moptimizer:\u001b[0m SGD(lr=0.01) with parameter groups 57 weight(decay=0.0), 60 weight(decay=0.0005), 60 bias\n",
            "\u001b[34m\u001b[1malbumentations: \u001b[0mBlur(p=0.01, blur_limit=(3, 7)), MedianBlur(p=0.01, blur_limit=(3, 7)), ToGray(p=0.01), CLAHE(p=0.01, clip_limit=(1, 4.0), tile_grid_size=(8, 8))\n",
            "\u001b[34m\u001b[1mtrain: \u001b[0mScanning /content/blood_cell_dataset/labels/train... 699 images, 0 backgrounds, 0 corrupt: 100% 699/699 [00:00<00:00, 1977.06it/s]\n",
            "\u001b[34m\u001b[1mtrain: \u001b[0mNew cache created: /content/blood_cell_dataset/labels/train.cache\n",
            "\u001b[34m\u001b[1mval: \u001b[0mScanning /content/blood_cell_dataset/labels/val... 87 images, 0 backgrounds, 0 corrupt: 100% 87/87 [00:00<00:00, 595.85it/s]\n",
            "\u001b[34m\u001b[1mval: \u001b[0mNew cache created: /content/blood_cell_dataset/labels/val.cache\n",
            "\n",
            "\u001b[34m\u001b[1mAutoAnchor: \u001b[0m5.35 anchors/target, 1.000 Best Possible Recall (BPR). Current anchors are a good fit to dataset ✅\n",
            "Plotting labels to runs/train/yolo_blood_cell/labels.jpg... \n",
            "Image sizes 640 train, 640 val\n",
            "Using 2 dataloader workers\n",
            "Logging results to \u001b[1mruns/train/yolo_blood_cell\u001b[0m\n",
            "Starting training for 1 epochs...\n",
            "\n",
            "      Epoch    GPU_mem   box_loss   obj_loss   cls_loss  Instances       Size\n",
            "        0/0      7.32G    0.09812     0.1447    0.03522        622        640: 100% 22/22 [00:22<00:00,  1.04s/it]\n",
            "                 Class     Images  Instances          P          R      mAP50   mAP50-95: 100% 2/2 [00:05<00:00,  2.78s/it]\n",
            "                   all         87       1223      0.743      0.097     0.0639     0.0194\n",
            "\n",
            "1 epochs completed in 0.008 hours.\n",
            "Optimizer stripped from runs/train/yolo_blood_cell/weights/last.pt, 14.4MB\n",
            "Optimizer stripped from runs/train/yolo_blood_cell/weights/best.pt, 14.4MB\n",
            "\n",
            "Validating runs/train/yolo_blood_cell/weights/best.pt...\n",
            "Fusing layers... \n",
            "YOLOv5s summary: 157 layers, 7018216 parameters, 0 gradients, 15.8 GFLOPs\n",
            "                 Class     Images  Instances          P          R      mAP50   mAP50-95:  50% 1/2 [00:02<00:02,  2.58s/it]WARNING ⚠️ NMS time limit 1.650s exceeded\n",
            "                 Class     Images  Instances          P          R      mAP50   mAP50-95: 100% 2/2 [00:06<00:00,  3.48s/it]\n",
            "                   all         87       1223      0.744     0.0968      0.064     0.0193\n",
            "                   WBC         87         91          1          0      0.025    0.00596\n",
            "                   RBC         87       1048      0.231      0.291      0.166     0.0519\n",
            "             Platelets         87         84          1          0   0.000654   0.000177\n",
            "Results saved to \u001b[1mruns/train/yolo_blood_cell\u001b[0m\n"
          ]
        }
      ],
      "source": [
        "!python train.py --img 640 --cfg yolov5s.yaml --hyp hyp.scratch.yaml --batch 32 --epochs 1 --data blood_cell.yaml --weights yolov5s.pt --workers 24 --name yolo_blood_cell"
      ]
    },
    {
      "cell_type": "markdown",
      "source": [
        "# Saving our results\n",
        "Since this notebook is just for demonstration we dont need to save results, So the saving code is commented."
      ],
      "metadata": {
        "id": "_JUC_IZMjR2n"
      }
    },
    {
      "cell_type": "code",
      "execution_count": null,
      "metadata": {
        "id": "N5bnrv0iFLSI"
      },
      "outputs": [],
      "source": [
        "# from google.colab import drive\n",
        "# drive.mount('/content/gdrive')\n",
        "\n",
        "# !cp '/content/gdrive/My Drive/best.pt' best.pt"
      ]
    }
  ],
  "metadata": {
    "accelerator": "GPU",
    "colab": {
      "provenance": [],
      "mount_file_id": "179vIdRyDUk5fT2QxEzfIU97UJt67bWjw",
      "authorship_tag": "ABX9TyNN/svWZFoo1AtpjUTqwI94",
      "include_colab_link": true
    },
    "gpuClass": "standard",
    "kernelspec": {
      "display_name": "Python 3",
      "name": "python3"
    },
    "language_info": {
      "name": "python"
    }
  },
  "nbformat": 4,
  "nbformat_minor": 0
}