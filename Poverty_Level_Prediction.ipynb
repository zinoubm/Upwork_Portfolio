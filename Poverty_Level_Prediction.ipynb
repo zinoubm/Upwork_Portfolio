{
  "cells": [
    {
      "cell_type": "markdown",
      "metadata": {
        "id": "view-in-github",
        "colab_type": "text"
      },
      "source": [
        "<a href=\"https://colab.research.google.com/github/zinoubm/Upwork_Portfolio/blob/main/Poverty_Level_Prediction.ipynb\" target=\"_parent\"><img src=\"https://colab.research.google.com/assets/colab-badge.svg\" alt=\"Open In Colab\"/></a>"
      ]
    },
    {
      "cell_type": "markdown",
      "metadata": {
        "id": "4Il8RbtQE406"
      },
      "source": [
        "# Downloading The Data\n",
        "The data for this project is Downloaded from kaggle(A Famous platform for Data Sience), If you want to reproduce this note book follow the steps explained in [this article](https://www.analyticsvidhya.com/blog/2021/06/how-to-load-kaggle-datasets-directly-into-google-colab/) .\n",
        "\n",
        "After downloading your kaggle credentials, upload the **kaggle.json** file to your google drive in a folder called kaggle."
      ]
    },
    {
      "cell_type": "code",
      "execution_count": null,
      "metadata": {
        "id": "ppXj6B7KE1yD"
      },
      "outputs": [],
      "source": [
        "from google.colab import drive\n",
        "drive.mount('/content/gdrive')\n",
        "\n",
        "!cp '/content/gdrive/My Drive/Kaggle/kaggle.json' kaggle.json\n",
        "\n",
        "! pip install kaggle\n",
        "! mkdir ~/.kaggle\n",
        "! cp kaggle.json ~/.kaggle/\n",
        "! chmod 600 ~/.kaggle/kaggle.json\n",
        "\n",
        "! kaggle competitions download costa-rican-household-poverty-prediction"
      ]
    },
    {
      "cell_type": "code",
      "execution_count": null,
      "metadata": {
        "id": "77PP8gmTIUo7"
      },
      "outputs": [],
      "source": [
        "! unzip /content/costa-rican-household-poverty-prediction.zip -d /content/data"
      ]
    },
    {
      "cell_type": "markdown",
      "source": [
        "Now we will import the needed libraries."
      ],
      "metadata": {
        "id": "YwVmfXj0hMju"
      }
    },
    {
      "cell_type": "code",
      "execution_count": null,
      "metadata": {
        "id": "QcPqyd_FATxu"
      },
      "outputs": [],
      "source": [
        "import numpy as np\n",
        "import pandas as pd\n",
        "import os\n",
        "import matplotlib.pyplot as plt\n",
        "import seaborn as sns\n",
        "import warnings\n",
        "warnings.filterwarnings(\"ignore\")"
      ]
    },
    {
      "cell_type": "markdown",
      "metadata": {
        "id": "ZC408xHhATxw"
      },
      "source": [
        "## Introduction\n",
        "\n",
        "The Inter-American Development Bank is asking the Kaggle community for help with income qualification for some of the world's poorest families. Are you up for the challenge?\n",
        "\n",
        "To improve on PMT, the IDB (the largest source of development financing for Latin America and the Caribbean) has turned to the Kaggle community. They believe that new methods beyond traditional econometrics, based on a dataset of Costa Rican household characteristics, might help improve PMT’s performance.\n",
        "\n",
        "Beyond Costa Rica, many countries face this same problem of inaccurately assessing social need. If Kagglers can generate an improvement, the new algorithm could be implemented in other countries around the world.\n",
        "\n",
        "## Metrics and Evaluation\n",
        "\n",
        "In this notebook we will use two metrics for our model performance measurment.\n",
        "The first one is the **macro-f1-score**. Despite being inapropriate for this dataset(because the data is squed), we will use it because it's the one that the original competetion for this notebook used.\n",
        "The second one is **weighted-f1-score**, It's more apropriate for unbalenced data."
      ]
    },
    {
      "cell_type": "markdown",
      "metadata": {
        "id": "b0eKjXR4ATxz"
      },
      "source": [
        "## Overview\n",
        "\n",
        " * #### Data Exploration\n",
        " * #### Label Distribution\n",
        " * #### Integer Columns\n",
        " * #### Float Columns\n",
        " * #### Object Columns\n",
        " * #### Feature Engeniering and Data Preprocessing\n",
        " * #### Data Aggregation\n",
        " * #### Initial Model Set Up\n",
        " * #### Hyper Parameter Tuning\n",
        " * #### Conclusion\n",
        " "
      ]
    },
    {
      "cell_type": "code",
      "execution_count": null,
      "metadata": {
        "id": "nchjQB7lATx0"
      },
      "outputs": [],
      "source": [
        "# reading the data\n",
        "training = pd.read_csv(\"/content/data/train.csv\")\n",
        "testing = pd.read_csv(\"/content/data/test.csv\")"
      ]
    },
    {
      "cell_type": "code",
      "execution_count": null,
      "metadata": {
        "id": "duO6Wwb0ATx1",
        "colab": {
          "base_uri": "https://localhost:8080/"
        },
        "outputId": "024d8a01-5bf5-45e4-9cdc-1f707345f12f"
      },
      "outputs": [
        {
          "output_type": "stream",
          "name": "stdout",
          "text": [
            "The data has 9557 rows and 143 columns.\n"
          ]
        }
      ],
      "source": [
        "# datashape\n",
        "nrow, ncol = training.shape\n",
        "print('The data has' , nrow, \"rows and\", ncol, 'columns.')"
      ]
    },
    {
      "cell_type": "code",
      "execution_count": null,
      "metadata": {
        "id": "VjFbOgnEATx2",
        "colab": {
          "base_uri": "https://localhost:8080/",
          "height": 299
        },
        "outputId": "c4d4e9f6-48f6-4681-8655-33747c9cef7c"
      },
      "outputs": [
        {
          "output_type": "execute_result",
          "data": {
            "text/plain": [
              "             Id      v2a1  hacdor  rooms  hacapo  v14a  refrig  v18q  v18q1  \\\n",
              "0  ID_279628684  190000.0       0      3       0     1       1     0    NaN   \n",
              "1  ID_f29eb3ddd  135000.0       0      4       0     1       1     1    1.0   \n",
              "2  ID_68de51c94       NaN       0      8       0     1       1     0    NaN   \n",
              "3  ID_d671db89c  180000.0       0      5       0     1       1     1    1.0   \n",
              "4  ID_d56d6f5f5  180000.0       0      5       0     1       1     1    1.0   \n",
              "\n",
              "   r4h1  ...  SQBescolari  SQBage  SQBhogar_total  SQBedjefe  SQBhogar_nin  \\\n",
              "0     0  ...          100    1849               1        100             0   \n",
              "1     0  ...          144    4489               1        144             0   \n",
              "2     0  ...          121    8464               1          0             0   \n",
              "3     0  ...           81     289              16        121             4   \n",
              "4     0  ...          121    1369              16        121             4   \n",
              "\n",
              "   SQBovercrowding  SQBdependency  SQBmeaned  agesq  Target  \n",
              "0         1.000000            0.0      100.0   1849       4  \n",
              "1         1.000000           64.0      144.0   4489       4  \n",
              "2         0.250000           64.0      121.0   8464       4  \n",
              "3         1.777778            1.0      121.0    289       4  \n",
              "4         1.777778            1.0      121.0   1369       4  \n",
              "\n",
              "[5 rows x 143 columns]"
            ],
            "text/html": [
              "\n",
              "  <div id=\"df-b7cbaa3c-6e4b-435d-be50-f814eb84a4f8\">\n",
              "    <div class=\"colab-df-container\">\n",
              "      <div>\n",
              "<style scoped>\n",
              "    .dataframe tbody tr th:only-of-type {\n",
              "        vertical-align: middle;\n",
              "    }\n",
              "\n",
              "    .dataframe tbody tr th {\n",
              "        vertical-align: top;\n",
              "    }\n",
              "\n",
              "    .dataframe thead th {\n",
              "        text-align: right;\n",
              "    }\n",
              "</style>\n",
              "<table border=\"1\" class=\"dataframe\">\n",
              "  <thead>\n",
              "    <tr style=\"text-align: right;\">\n",
              "      <th></th>\n",
              "      <th>Id</th>\n",
              "      <th>v2a1</th>\n",
              "      <th>hacdor</th>\n",
              "      <th>rooms</th>\n",
              "      <th>hacapo</th>\n",
              "      <th>v14a</th>\n",
              "      <th>refrig</th>\n",
              "      <th>v18q</th>\n",
              "      <th>v18q1</th>\n",
              "      <th>r4h1</th>\n",
              "      <th>...</th>\n",
              "      <th>SQBescolari</th>\n",
              "      <th>SQBage</th>\n",
              "      <th>SQBhogar_total</th>\n",
              "      <th>SQBedjefe</th>\n",
              "      <th>SQBhogar_nin</th>\n",
              "      <th>SQBovercrowding</th>\n",
              "      <th>SQBdependency</th>\n",
              "      <th>SQBmeaned</th>\n",
              "      <th>agesq</th>\n",
              "      <th>Target</th>\n",
              "    </tr>\n",
              "  </thead>\n",
              "  <tbody>\n",
              "    <tr>\n",
              "      <th>0</th>\n",
              "      <td>ID_279628684</td>\n",
              "      <td>190000.0</td>\n",
              "      <td>0</td>\n",
              "      <td>3</td>\n",
              "      <td>0</td>\n",
              "      <td>1</td>\n",
              "      <td>1</td>\n",
              "      <td>0</td>\n",
              "      <td>NaN</td>\n",
              "      <td>0</td>\n",
              "      <td>...</td>\n",
              "      <td>100</td>\n",
              "      <td>1849</td>\n",
              "      <td>1</td>\n",
              "      <td>100</td>\n",
              "      <td>0</td>\n",
              "      <td>1.000000</td>\n",
              "      <td>0.0</td>\n",
              "      <td>100.0</td>\n",
              "      <td>1849</td>\n",
              "      <td>4</td>\n",
              "    </tr>\n",
              "    <tr>\n",
              "      <th>1</th>\n",
              "      <td>ID_f29eb3ddd</td>\n",
              "      <td>135000.0</td>\n",
              "      <td>0</td>\n",
              "      <td>4</td>\n",
              "      <td>0</td>\n",
              "      <td>1</td>\n",
              "      <td>1</td>\n",
              "      <td>1</td>\n",
              "      <td>1.0</td>\n",
              "      <td>0</td>\n",
              "      <td>...</td>\n",
              "      <td>144</td>\n",
              "      <td>4489</td>\n",
              "      <td>1</td>\n",
              "      <td>144</td>\n",
              "      <td>0</td>\n",
              "      <td>1.000000</td>\n",
              "      <td>64.0</td>\n",
              "      <td>144.0</td>\n",
              "      <td>4489</td>\n",
              "      <td>4</td>\n",
              "    </tr>\n",
              "    <tr>\n",
              "      <th>2</th>\n",
              "      <td>ID_68de51c94</td>\n",
              "      <td>NaN</td>\n",
              "      <td>0</td>\n",
              "      <td>8</td>\n",
              "      <td>0</td>\n",
              "      <td>1</td>\n",
              "      <td>1</td>\n",
              "      <td>0</td>\n",
              "      <td>NaN</td>\n",
              "      <td>0</td>\n",
              "      <td>...</td>\n",
              "      <td>121</td>\n",
              "      <td>8464</td>\n",
              "      <td>1</td>\n",
              "      <td>0</td>\n",
              "      <td>0</td>\n",
              "      <td>0.250000</td>\n",
              "      <td>64.0</td>\n",
              "      <td>121.0</td>\n",
              "      <td>8464</td>\n",
              "      <td>4</td>\n",
              "    </tr>\n",
              "    <tr>\n",
              "      <th>3</th>\n",
              "      <td>ID_d671db89c</td>\n",
              "      <td>180000.0</td>\n",
              "      <td>0</td>\n",
              "      <td>5</td>\n",
              "      <td>0</td>\n",
              "      <td>1</td>\n",
              "      <td>1</td>\n",
              "      <td>1</td>\n",
              "      <td>1.0</td>\n",
              "      <td>0</td>\n",
              "      <td>...</td>\n",
              "      <td>81</td>\n",
              "      <td>289</td>\n",
              "      <td>16</td>\n",
              "      <td>121</td>\n",
              "      <td>4</td>\n",
              "      <td>1.777778</td>\n",
              "      <td>1.0</td>\n",
              "      <td>121.0</td>\n",
              "      <td>289</td>\n",
              "      <td>4</td>\n",
              "    </tr>\n",
              "    <tr>\n",
              "      <th>4</th>\n",
              "      <td>ID_d56d6f5f5</td>\n",
              "      <td>180000.0</td>\n",
              "      <td>0</td>\n",
              "      <td>5</td>\n",
              "      <td>0</td>\n",
              "      <td>1</td>\n",
              "      <td>1</td>\n",
              "      <td>1</td>\n",
              "      <td>1.0</td>\n",
              "      <td>0</td>\n",
              "      <td>...</td>\n",
              "      <td>121</td>\n",
              "      <td>1369</td>\n",
              "      <td>16</td>\n",
              "      <td>121</td>\n",
              "      <td>4</td>\n",
              "      <td>1.777778</td>\n",
              "      <td>1.0</td>\n",
              "      <td>121.0</td>\n",
              "      <td>1369</td>\n",
              "      <td>4</td>\n",
              "    </tr>\n",
              "  </tbody>\n",
              "</table>\n",
              "<p>5 rows × 143 columns</p>\n",
              "</div>\n",
              "      <button class=\"colab-df-convert\" onclick=\"convertToInteractive('df-b7cbaa3c-6e4b-435d-be50-f814eb84a4f8')\"\n",
              "              title=\"Convert this dataframe to an interactive table.\"\n",
              "              style=\"display:none;\">\n",
              "        \n",
              "  <svg xmlns=\"http://www.w3.org/2000/svg\" height=\"24px\"viewBox=\"0 0 24 24\"\n",
              "       width=\"24px\">\n",
              "    <path d=\"M0 0h24v24H0V0z\" fill=\"none\"/>\n",
              "    <path d=\"M18.56 5.44l.94 2.06.94-2.06 2.06-.94-2.06-.94-.94-2.06-.94 2.06-2.06.94zm-11 1L8.5 8.5l.94-2.06 2.06-.94-2.06-.94L8.5 2.5l-.94 2.06-2.06.94zm10 10l.94 2.06.94-2.06 2.06-.94-2.06-.94-.94-2.06-.94 2.06-2.06.94z\"/><path d=\"M17.41 7.96l-1.37-1.37c-.4-.4-.92-.59-1.43-.59-.52 0-1.04.2-1.43.59L10.3 9.45l-7.72 7.72c-.78.78-.78 2.05 0 2.83L4 21.41c.39.39.9.59 1.41.59.51 0 1.02-.2 1.41-.59l7.78-7.78 2.81-2.81c.8-.78.8-2.07 0-2.86zM5.41 20L4 18.59l7.72-7.72 1.47 1.35L5.41 20z\"/>\n",
              "  </svg>\n",
              "      </button>\n",
              "      \n",
              "  <style>\n",
              "    .colab-df-container {\n",
              "      display:flex;\n",
              "      flex-wrap:wrap;\n",
              "      gap: 12px;\n",
              "    }\n",
              "\n",
              "    .colab-df-convert {\n",
              "      background-color: #E8F0FE;\n",
              "      border: none;\n",
              "      border-radius: 50%;\n",
              "      cursor: pointer;\n",
              "      display: none;\n",
              "      fill: #1967D2;\n",
              "      height: 32px;\n",
              "      padding: 0 0 0 0;\n",
              "      width: 32px;\n",
              "    }\n",
              "\n",
              "    .colab-df-convert:hover {\n",
              "      background-color: #E2EBFA;\n",
              "      box-shadow: 0px 1px 2px rgba(60, 64, 67, 0.3), 0px 1px 3px 1px rgba(60, 64, 67, 0.15);\n",
              "      fill: #174EA6;\n",
              "    }\n",
              "\n",
              "    [theme=dark] .colab-df-convert {\n",
              "      background-color: #3B4455;\n",
              "      fill: #D2E3FC;\n",
              "    }\n",
              "\n",
              "    [theme=dark] .colab-df-convert:hover {\n",
              "      background-color: #434B5C;\n",
              "      box-shadow: 0px 1px 3px 1px rgba(0, 0, 0, 0.15);\n",
              "      filter: drop-shadow(0px 1px 2px rgba(0, 0, 0, 0.3));\n",
              "      fill: #FFFFFF;\n",
              "    }\n",
              "  </style>\n",
              "\n",
              "      <script>\n",
              "        const buttonEl =\n",
              "          document.querySelector('#df-b7cbaa3c-6e4b-435d-be50-f814eb84a4f8 button.colab-df-convert');\n",
              "        buttonEl.style.display =\n",
              "          google.colab.kernel.accessAllowed ? 'block' : 'none';\n",
              "\n",
              "        async function convertToInteractive(key) {\n",
              "          const element = document.querySelector('#df-b7cbaa3c-6e4b-435d-be50-f814eb84a4f8');\n",
              "          const dataTable =\n",
              "            await google.colab.kernel.invokeFunction('convertToInteractive',\n",
              "                                                     [key], {});\n",
              "          if (!dataTable) return;\n",
              "\n",
              "          const docLinkHtml = 'Like what you see? Visit the ' +\n",
              "            '<a target=\"_blank\" href=https://colab.research.google.com/notebooks/data_table.ipynb>data table notebook</a>'\n",
              "            + ' to learn more about interactive tables.';\n",
              "          element.innerHTML = '';\n",
              "          dataTable['output_type'] = 'display_data';\n",
              "          await google.colab.output.renderOutput(dataTable, element);\n",
              "          const docLink = document.createElement('div');\n",
              "          docLink.innerHTML = docLinkHtml;\n",
              "          element.appendChild(docLink);\n",
              "        }\n",
              "      </script>\n",
              "    </div>\n",
              "  </div>\n",
              "  "
            ]
          },
          "metadata": {},
          "execution_count": 6
        }
      ],
      "source": [
        "training.head()"
      ]
    },
    {
      "cell_type": "markdown",
      "metadata": {
        "id": "4Vv3xnbBATx2"
      },
      "source": [
        "We can see the the labels in this dataset are imbalence, this is where the **weighted-f1-score** comes in handy."
      ]
    },
    {
      "cell_type": "code",
      "execution_count": null,
      "metadata": {
        "id": "BO0_-mSeATx3",
        "colab": {
          "base_uri": "https://localhost:8080/",
          "height": 334
        },
        "outputId": "17e830f4-bb23-4b75-d387-0e3e25c7d484"
      },
      "outputs": [
        {
          "output_type": "display_data",
          "data": {
            "text/plain": [
              "<Figure size 576x360 with 1 Axes>"
            ],
            "image/png": "[encoded data removed]"
          },
          "metadata": {
            "needs_background": "light"
          }
        }
      ],
      "source": [
        "# target distribution\n",
        "plt.figure(figsize=(8,5))\n",
        "labels_dist = training['Target'].value_counts().rename_axis('value').reset_index(name='count')\n",
        "sns.barplot(data=labels_dist, x=\"value\", y=\"count\")\n",
        "plt.show()"
      ]
    },
    {
      "cell_type": "markdown",
      "metadata": {
        "id": "9Mjz9kU7ATx3"
      },
      "source": [
        "Also Some of the rows are misslabeld, let's see how many of these we have."
      ]
    },
    {
      "cell_type": "code",
      "execution_count": null,
      "metadata": {
        "id": "oE03aRaUATx4",
        "colab": {
          "base_uri": "https://localhost:8080/"
        },
        "outputId": "2abf98e8-b92e-4d05-d3ff-60dd4c410b33"
      },
      "outputs": [
        {
          "output_type": "stream",
          "name": "stdout",
          "text": [
            "There are 85 houshlds that values don't match\n"
          ]
        }
      ],
      "source": [
        "by_idhogar = training.copy().groupby(\"idhogar\")\n",
        "correct_labels = by_idhogar.Target.apply(lambda x: len(x.unique()) == 1)\n",
        "print(f\"There are {len(correct_labels[correct_labels == False])} houshlds that values don't match\")"
      ]
    },
    {
      "cell_type": "markdown",
      "metadata": {
        "id": "fRRUYwx5ATx5"
      },
      "source": [
        "We find mislabeled examples by comparing the label of the example and the label of household head, If they don't match then the given example is misslabeld, To address this essue we replace the wrong labels by the labels of the household.\n",
        "We also need the check if there are any housholds without a head."
      ]
    },
    {
      "cell_type": "code",
      "execution_count": null,
      "metadata": {
        "id": "-X7AISLOATx5",
        "colab": {
          "base_uri": "https://localhost:8080/"
        },
        "outputId": "dc9fa5af-65aa-4774-a614-5223d71088c3"
      },
      "outputs": [
        {
          "output_type": "stream",
          "name": "stdout",
          "text": [
            "There are 15 house holds without head.\n"
          ]
        }
      ],
      "source": [
        "correct_labels = by_idhogar.apply(lambda x: any(x['parentesco1'] == 1))\n",
        "house_holds_without_head = correct_labels[correct_labels == False]\n",
        "print(f'There are {len(house_holds_without_head)} house holds without head.')"
      ]
    },
    {
      "cell_type": "markdown",
      "metadata": {
        "id": "c8IawqzeATx6"
      },
      "source": [
        "The rules for fixing the labels are simple:\n",
        "* if the individual's label dont match the label for the head of the House hold replace it by the label of the head of the House hold.\n",
        "* if there's no head of the House hold replace with None for later imputation."
      ]
    },
    {
      "cell_type": "code",
      "execution_count": null,
      "metadata": {
        "id": "2mnnUPuIATx6"
      },
      "outputs": [],
      "source": [
        "def correct_label(house_hold):\n",
        "    super_label = house_hold[house_hold['parentesco1'] == 1]['Target']\n",
        "    if len(super_label) == 0:\n",
        "        house_hold['Target'] = None\n",
        "    else:\n",
        "        house_hold['Target'] = super_label.values[0]\n",
        "    return house_hold\n",
        "    \n",
        "training = by_idhogar.apply(correct_label)"
      ]
    },
    {
      "cell_type": "markdown",
      "metadata": {
        "id": "jifgtexIATx7"
      },
      "source": [
        "We need to impute missing labels."
      ]
    },
    {
      "cell_type": "code",
      "execution_count": null,
      "metadata": {
        "id": "UVhNXJCzATx7"
      },
      "outputs": [],
      "source": [
        "median_value = training['Target'].median().astype(np.int32)\n",
        "training['Target'].fillna(median_value, inplace=True)"
      ]
    },
    {
      "cell_type": "markdown",
      "metadata": {
        "id": "YKwNm8pRATx8"
      },
      "source": [
        "Here we can see that 0 examples are misslabeled."
      ]
    },
    {
      "cell_type": "code",
      "execution_count": null,
      "metadata": {
        "id": "AocJ50RrATx8",
        "colab": {
          "base_uri": "https://localhost:8080/"
        },
        "outputId": "6cf7001d-3b50-43d1-8da5-b41b82ec41f2"
      },
      "outputs": [
        {
          "output_type": "stream",
          "name": "stdout",
          "text": [
            "There are 0 houshlds that values don't match\n"
          ]
        }
      ],
      "source": [
        "res = training.groupby(\"idhogar\").Target.apply(lambda x: len(x.unique()) == 1)\n",
        "print(f\"There are {len(res[res == False])} houshlds that values don't match\")"
      ]
    },
    {
      "cell_type": "markdown",
      "metadata": {
        "id": "r1sUrW5aATx8"
      },
      "source": [
        "Now we need to separate columns by their data type"
      ]
    },
    {
      "cell_type": "code",
      "execution_count": null,
      "metadata": {
        "id": "ZJd-2pgzATx9"
      },
      "outputs": [],
      "source": [
        "integers = ['int16', 'int32', 'int64']\n",
        "floats = ['float16', 'float32', 'float64']\n",
        "objects = ['object']\n",
        "\n",
        "integer_columns = training.select_dtypes(include=integers).columns\n",
        "float_columns = training.select_dtypes(include=floats).columns\n",
        "object_columns = training.select_dtypes(include=objects).columns"
      ]
    },
    {
      "cell_type": "markdown",
      "metadata": {
        "id": "AFn4imqUATx9"
      },
      "source": [
        "## Integer columns\n",
        "Let's start by analysing columns with Integer data."
      ]
    },
    {
      "cell_type": "markdown",
      "metadata": {
        "id": "GAmnYP9XATx9"
      },
      "source": [
        "Let's see the distribution for 9 columns chosen randomly."
      ]
    },
    {
      "cell_type": "code",
      "execution_count": null,
      "metadata": {
        "id": "05dvM0VvATx-",
        "colab": {
          "base_uri": "https://localhost:8080/",
          "height": 590
        },
        "outputId": "cb760219-465b-4010-8a51-c8041d6887b5"
      },
      "outputs": [
        {
          "output_type": "display_data",
          "data": {
            "text/plain": [
              "<Figure size 1080x720 with 9 Axes>"
            ],
            "image/png": "[encoded data removed]"
          },
          "metadata": {
            "needs_background": "light"
          }
        }
      ],
      "source": [
        "import random\n",
        "fig, axs = plt.subplots(3, 3, figsize=(15, 10))\n",
        "for ax, feature in zip(fig.get_axes(), random.sample(list(integer_columns), 9)):\n",
        "    data = training[feature]\n",
        "    ax.hist(data)\n",
        "    ax.set_title(feature)"
      ]
    },
    {
      "cell_type": "markdown",
      "metadata": {
        "id": "74UGHOeZATx-"
      },
      "source": [
        "This bar plot shows us the count of unique values in each integer column, We can see the majority of our data is binary."
      ]
    },
    {
      "cell_type": "code",
      "execution_count": null,
      "metadata": {
        "id": "02XiSqMiATx-",
        "colab": {
          "base_uri": "https://localhost:8080/",
          "height": 265
        },
        "outputId": "1908f1fb-10ae-456c-f484-08c2c0e8b192"
      },
      "outputs": [
        {
          "output_type": "display_data",
          "data": {
            "text/plain": [
              "<Figure size 432x288 with 1 Axes>"
            ],
            "image/png": "[encoded data removed]"
          },
          "metadata": {
            "needs_background": "light"
          }
        }
      ],
      "source": [
        "integer_value_counts = training[integer_columns].apply(lambda x: len(x.value_counts()), axis = 0).value_counts()\n",
        "labels = [str(x) for x in integer_value_counts.index]\n",
        "plt.bar(labels, integer_value_counts.values)\n",
        "plt.show()"
      ]
    },
    {
      "cell_type": "markdown",
      "metadata": {
        "id": "NDKDAbZpATx_"
      },
      "source": [
        "## Float columns"
      ]
    },
    {
      "cell_type": "markdown",
      "metadata": {
        "id": "_bacP6D3ATx_"
      },
      "source": [
        "Now let's take a look at float columns."
      ]
    },
    {
      "cell_type": "code",
      "execution_count": null,
      "metadata": {
        "id": "ic6seFE8ATx_",
        "colab": {
          "base_uri": "https://localhost:8080/",
          "height": 586
        },
        "outputId": "ae33b6b9-899d-4ce1-c199-47025bfb2251"
      },
      "outputs": [
        {
          "output_type": "display_data",
          "data": {
            "text/plain": [
              "<Figure size 1080x720 with 9 Axes>"
            ],
            "image/png": "[encoded data removed]"
          },
          "metadata": {
            "needs_background": "light"
          }
        }
      ],
      "source": [
        "fig, axs = plt.subplots(3, 3, figsize=(15, 10))\n",
        "for ax, feature in zip(fig.get_axes(), float_columns):\n",
        "    sns.kdeplot(ax=ax, data=training, x=feature, hue='Target',  palette=\"crest\")"
      ]
    },
    {
      "cell_type": "markdown",
      "metadata": {
        "id": "pyCKOtX9ATyA"
      },
      "source": [
        "## Missing values"
      ]
    },
    {
      "cell_type": "markdown",
      "metadata": {
        "id": "BjPPmJ_GATyA"
      },
      "source": [
        "We have 5 columns with missing values, two of them are so close to 0 so we'll just impute them, the other columns needs some investigation."
      ]
    },
    {
      "cell_type": "code",
      "execution_count": null,
      "metadata": {
        "id": "VN12iqu4ATyA",
        "colab": {
          "base_uri": "https://localhost:8080/",
          "height": 350
        },
        "outputId": "be00f83d-a3e2-4d3c-ef12-84108ea2b68e"
      },
      "outputs": [
        {
          "output_type": "display_data",
          "data": {
            "text/plain": [
              "<Figure size 864x360 with 1 Axes>"
            ],
            "image/png": "[encoded data removed]"
          },
          "metadata": {
            "needs_background": "light"
          }
        }
      ],
      "source": [
        "data = (training.isnull().sum()/nrow)*100\n",
        "data = data.loc[data>0]\n",
        "fig = plt.figure(figsize = (12, 5))\n",
        "sns.barplot(x=data.values, y=data.index,\n",
        "            orient = 'h', palette = 'light:#5A9')\n",
        "plt.title('Columns with missing values')\n",
        "plt.xlabel('Percentage of missing values (%)')\n",
        "plt.show()"
      ]
    },
    {
      "cell_type": "markdown",
      "metadata": {
        "id": "HozVnndcATyB"
      },
      "source": [
        "From the data description of the competition the missing values in columns **dependency**, **edjefe** and **edjefa**, have to be replaced by **1** for **yes**, and **0** for **no**."
      ]
    },
    {
      "cell_type": "code",
      "execution_count": null,
      "metadata": {
        "id": "_rtkXh5-ATyB"
      },
      "outputs": [],
      "source": [
        "mapper = {\"yes\": '0',\n",
        "          \"no\": '1'}\n",
        "\n",
        "for col in ['dependency', 'edjefe', 'edjefa']:\n",
        "    training[col] = training[col].replace(mapper).astype(np.float64)"
      ]
    },
    {
      "cell_type": "markdown",
      "metadata": {
        "id": "CBN7gWXlATyB"
      },
      "source": [
        "v2a1 is the **Monthly rent payment**, We'll check if there are some people that owns their houses, maybe this will explain the appearance of missing values (you don't pay rent for a house that you own)"
      ]
    },
    {
      "cell_type": "code",
      "execution_count": null,
      "metadata": {
        "id": "gJ5ePFfLATyB",
        "colab": {
          "base_uri": "https://localhost:8080/",
          "height": 143
        },
        "outputId": "96094cf2-13eb-4678-d269-5977202477ab"
      },
      "outputs": [
        {
          "output_type": "execute_result",
          "data": {
            "text/plain": [
              "owned   False  True\n",
              "rentNa             \n",
              "False    1736   961\n",
              "True      949  5911"
            ],
            "text/html": [
              "\n",
              "  <div id=\"df-79648821-cb0b-4985-a11f-19af8e6f3354\">\n",
              "    <div class=\"colab-df-container\">\n",
              "      <div>\n",
              "<style scoped>\n",
              "    .dataframe tbody tr th:only-of-type {\n",
              "        vertical-align: middle;\n",
              "    }\n",
              "\n",
              "    .dataframe tbody tr th {\n",
              "        vertical-align: top;\n",
              "    }\n",
              "\n",
              "    .dataframe thead th {\n",
              "        text-align: right;\n",
              "    }\n",
              "</style>\n",
              "<table border=\"1\" class=\"dataframe\">\n",
              "  <thead>\n",
              "    <tr style=\"text-align: right;\">\n",
              "      <th>owned</th>\n",
              "      <th>False</th>\n",
              "      <th>True</th>\n",
              "    </tr>\n",
              "    <tr>\n",
              "      <th>rentNa</th>\n",
              "      <th></th>\n",
              "      <th></th>\n",
              "    </tr>\n",
              "  </thead>\n",
              "  <tbody>\n",
              "    <tr>\n",
              "      <th>False</th>\n",
              "      <td>1736</td>\n",
              "      <td>961</td>\n",
              "    </tr>\n",
              "    <tr>\n",
              "      <th>True</th>\n",
              "      <td>949</td>\n",
              "      <td>5911</td>\n",
              "    </tr>\n",
              "  </tbody>\n",
              "</table>\n",
              "</div>\n",
              "      <button class=\"colab-df-convert\" onclick=\"convertToInteractive('df-79648821-cb0b-4985-a11f-19af8e6f3354')\"\n",
              "              title=\"Convert this dataframe to an interactive table.\"\n",
              "              style=\"display:none;\">\n",
              "        \n",
              "  <svg xmlns=\"http://www.w3.org/2000/svg\" height=\"24px\"viewBox=\"0 0 24 24\"\n",
              "       width=\"24px\">\n",
              "    <path d=\"M0 0h24v24H0V0z\" fill=\"none\"/>\n",
              "    <path d=\"M18.56 5.44l.94 2.06.94-2.06 2.06-.94-2.06-.94-.94-2.06-.94 2.06-2.06.94zm-11 1L8.5 8.5l.94-2.06 2.06-.94-2.06-.94L8.5 2.5l-.94 2.06-2.06.94zm10 10l.94 2.06.94-2.06 2.06-.94-2.06-.94-.94-2.06-.94 2.06-2.06.94z\"/><path d=\"M17.41 7.96l-1.37-1.37c-.4-.4-.92-.59-1.43-.59-.52 0-1.04.2-1.43.59L10.3 9.45l-7.72 7.72c-.78.78-.78 2.05 0 2.83L4 21.41c.39.39.9.59 1.41.59.51 0 1.02-.2 1.41-.59l7.78-7.78 2.81-2.81c.8-.78.8-2.07 0-2.86zM5.41 20L4 18.59l7.72-7.72 1.47 1.35L5.41 20z\"/>\n",
              "  </svg>\n",
              "      </button>\n",
              "      \n",
              "  <style>\n",
              "    .colab-df-container {\n",
              "      display:flex;\n",
              "      flex-wrap:wrap;\n",
              "      gap: 12px;\n",
              "    }\n",
              "\n",
              "    .colab-df-convert {\n",
              "      background-color: #E8F0FE;\n",
              "      border: none;\n",
              "      border-radius: 50%;\n",
              "      cursor: pointer;\n",
              "      display: none;\n",
              "      fill: #1967D2;\n",
              "      height: 32px;\n",
              "      padding: 0 0 0 0;\n",
              "      width: 32px;\n",
              "    }\n",
              "\n",
              "    .colab-df-convert:hover {\n",
              "      background-color: #E2EBFA;\n",
              "      box-shadow: 0px 1px 2px rgba(60, 64, 67, 0.3), 0px 1px 3px 1px rgba(60, 64, 67, 0.15);\n",
              "      fill: #174EA6;\n",
              "    }\n",
              "\n",
              "    [theme=dark] .colab-df-convert {\n",
              "      background-color: #3B4455;\n",
              "      fill: #D2E3FC;\n",
              "    }\n",
              "\n",
              "    [theme=dark] .colab-df-convert:hover {\n",
              "      background-color: #434B5C;\n",
              "      box-shadow: 0px 1px 3px 1px rgba(0, 0, 0, 0.15);\n",
              "      filter: drop-shadow(0px 1px 2px rgba(0, 0, 0, 0.3));\n",
              "      fill: #FFFFFF;\n",
              "    }\n",
              "  </style>\n",
              "\n",
              "      <script>\n",
              "        const buttonEl =\n",
              "          document.querySelector('#df-79648821-cb0b-4985-a11f-19af8e6f3354 button.colab-df-convert');\n",
              "        buttonEl.style.display =\n",
              "          google.colab.kernel.accessAllowed ? 'block' : 'none';\n",
              "\n",
              "        async function convertToInteractive(key) {\n",
              "          const element = document.querySelector('#df-79648821-cb0b-4985-a11f-19af8e6f3354');\n",
              "          const dataTable =\n",
              "            await google.colab.kernel.invokeFunction('convertToInteractive',\n",
              "                                                     [key], {});\n",
              "          if (!dataTable) return;\n",
              "\n",
              "          const docLinkHtml = 'Like what you see? Visit the ' +\n",
              "            '<a target=\"_blank\" href=https://colab.research.google.com/notebooks/data_table.ipynb>data table notebook</a>'\n",
              "            + ' to learn more about interactive tables.';\n",
              "          element.innerHTML = '';\n",
              "          dataTable['output_type'] = 'display_data';\n",
              "          await google.colab.output.renderOutput(dataTable, element);\n",
              "          const docLink = document.createElement('div');\n",
              "          docLink.innerHTML = docLinkHtml;\n",
              "          element.appendChild(docLink);\n",
              "        }\n",
              "      </script>\n",
              "    </div>\n",
              "  </div>\n",
              "  "
            ]
          },
          "metadata": {},
          "execution_count": 19
        }
      ],
      "source": [
        "house_ownership = training[['v2a1', 'tipovivi1', 'tipovivi2', 'tipovivi3']]\n",
        "house_ownership['rentNa'] = house_ownership['v2a1'].isna()\n",
        "house_ownership['owned'] =house_ownership['tipovivi1'].eq(1) | house_ownership['tipovivi2'].eq(1)\n",
        "res = house_ownership[house_ownership['v2a1'].isna()]\n",
        "\n",
        "pd.crosstab(house_ownership.rentNa,house_ownership.owned)"
      ]
    },
    {
      "cell_type": "markdown",
      "metadata": {
        "id": "gkqAdrZ4ATyC"
      },
      "source": [
        "We can see from the little table, speceficly in the second row (where renNa is true) that there are ~6000 missing values where people own their houses, So our assumption holds true. There are ~1000 missing values that will be left for mediane imputation, and the missing values where the house is owned, will be filled by 0."
      ]
    },
    {
      "cell_type": "code",
      "execution_count": null,
      "metadata": {
        "id": "lXTJJFMsATyC"
      },
      "outputs": [],
      "source": [
        "cond = training['v2a1'].isna() & (house_ownership['tipovivi1'].eq(1) | house_ownership['tipovivi2'].eq(1))\n",
        "training['v2a1'][cond] = 0\n",
        "median_value = training['v2a1'].median()\n",
        "training['v2a1'].fillna(median_value, inplace=True)"
      ]
    },
    {
      "cell_type": "markdown",
      "metadata": {
        "id": "SK8a7qaZATyD"
      },
      "source": [
        "we can see now that 0% of our data is missing\n"
      ]
    },
    {
      "cell_type": "code",
      "execution_count": null,
      "metadata": {
        "id": "Aqi3OztiATyD",
        "colab": {
          "base_uri": "https://localhost:8080/"
        },
        "outputId": "733b1d27-8042-4c05-85e8-8e52e84f0c84"
      },
      "outputs": [
        {
          "output_type": "execute_result",
          "data": {
            "text/plain": [
              "0.0"
            ]
          },
          "metadata": {},
          "execution_count": 21
        }
      ],
      "source": [
        "training['v2a1'].isna().sum()/len(training['v2a1']) * 100"
      ]
    },
    {
      "cell_type": "markdown",
      "metadata": {
        "id": "xwa7OtbyATyD"
      },
      "source": [
        "v1Artist8q1 is the number of tablets in a household. Lets assume that Nan means 0 and not having a tablet is more common and check our assumptions."
      ]
    },
    {
      "cell_type": "code",
      "execution_count": null,
      "metadata": {
        "id": "I2OPzjPxATyD"
      },
      "outputs": [],
      "source": [
        "training['v18q1'].fillna(0, inplace=True)"
      ]
    },
    {
      "cell_type": "markdown",
      "metadata": {
        "id": "6jerYU8HATyD"
      },
      "source": [
        "We can see that our assumptions holds true, 0 is the most vued case."
      ]
    },
    {
      "cell_type": "code",
      "execution_count": null,
      "metadata": {
        "id": "i02A8_vLATyD",
        "colab": {
          "base_uri": "https://localhost:8080/",
          "height": 265
        },
        "outputId": "ac1d1cfa-43a7-405c-b076-8b3994c06d4a"
      },
      "outputs": [
        {
          "output_type": "display_data",
          "data": {
            "text/plain": [
              "<Figure size 432x288 with 1 Axes>"
            ],
            "image/png": "[encoded data removed]"
          },
          "metadata": {
            "needs_background": "light"
          }
        }
      ],
      "source": [
        "plt.hist(training['v18q1'])\n",
        "plt.show()"
      ]
    },
    {
      "cell_type": "markdown",
      "metadata": {
        "id": "zn3slutZATyE"
      },
      "source": [
        "rez_esc is the **Years behind in school**, Maybe these households simply don't have children in shcool. We can see when we describe our data that min is **7** and max **17**, The data description states that This variable is only defined for children between 7 and 17. So missing values will be replaced with 0."
      ]
    },
    {
      "cell_type": "code",
      "execution_count": null,
      "metadata": {
        "id": "ZtKvC0moATyE",
        "colab": {
          "base_uri": "https://localhost:8080/"
        },
        "outputId": "b140bbe1-ae56-4e3d-c92a-85b43dad548a"
      },
      "outputs": [
        {
          "output_type": "execute_result",
          "data": {
            "text/plain": [
              "count    1629.000000\n",
              "mean       12.258441\n",
              "std         3.218325\n",
              "min         7.000000\n",
              "25%         9.000000\n",
              "50%        12.000000\n",
              "75%        15.000000\n",
              "max        17.000000\n",
              "Name: age, dtype: float64"
            ]
          },
          "metadata": {},
          "execution_count": 24
        }
      ],
      "source": [
        "training.loc[training['rez_esc'].notnull()]['age'].describe()"
      ]
    },
    {
      "cell_type": "code",
      "execution_count": null,
      "metadata": {
        "id": "NW3FuEgUATyE"
      },
      "outputs": [],
      "source": [
        "training['rez_esc'].fillna(0, inplace=True)"
      ]
    },
    {
      "cell_type": "code",
      "execution_count": null,
      "metadata": {
        "id": "cpeN4f62ATyE"
      },
      "outputs": [],
      "source": [
        "from sklearn.impute import SimpleImputer\n",
        "cols = ['v2a1', 'v18q1', 'rez_esc', 'meaneduc', 'SQBmeaned']\n",
        "imp_mean = SimpleImputer(missing_values=np.nan, strategy='mean')\n",
        "imp_mean.fit(training[cols])\n",
        "training[cols] = imp_mean.fit_transform(training[cols])"
      ]
    },
    {
      "cell_type": "code",
      "execution_count": null,
      "metadata": {
        "id": "RjmtUQpXATyE"
      },
      "outputs": [],
      "source": [
        "Y = training['Target']\n",
        "training.drop(columns=['Target'], inplace=True)"
      ]
    },
    {
      "cell_type": "markdown",
      "metadata": {
        "id": "DXCtMHP5ATyF"
      },
      "source": [
        "## Feature Engeniering and Data Preprocessing"
      ]
    },
    {
      "cell_type": "markdown",
      "metadata": {
        "id": "JfO2MjJLATyF"
      },
      "source": [
        "Converting **One Hot Encoding** to **Label Encoding**."
      ]
    },
    {
      "cell_type": "code",
      "execution_count": null,
      "metadata": {
        "id": "3nrVpIikATyF"
      },
      "outputs": [],
      "source": [
        "prefixes = ['pared', 'piso', 'techo', 'abastagua', 'sanitario', 'energcocinar', 'elimbasu', \n",
        "               'epared', 'etecho', 'eviv', 'estadocivil', 'parentesco', \n",
        "               'instlevel', 'lugar', 'tipovivi',\n",
        "               'manual_elec']\n",
        "    \n",
        "for p in prefixes:\n",
        "    cols = []\n",
        "    for col in training.columns:\n",
        "        if col.startswith(p):\n",
        "            cols.append(col)\n",
        "            \n",
        "    if not (training[cols].apply(axis = 1, func = sum) != 1).any():\n",
        "        training[p] = training[cols].apply(axis=1, func=np.argmax)\n",
        "        training.drop(columns=cols, inplace=True)"
      ]
    },
    {
      "cell_type": "markdown",
      "metadata": {
        "id": "cXRVvsguATyF"
      },
      "source": [
        "We will generate some features that may help our Prediction model\n",
        "* Number of rooms/ number of people\n",
        "* Mobile fraction\n",
        "* Tablet fraction\n",
        "* Children fraction\n",
        "* Adult fraction"
      ]
    },
    {
      "cell_type": "code",
      "execution_count": null,
      "metadata": {
        "id": "76gqHgg5ATyG"
      },
      "outputs": [],
      "source": [
        "training['people_per_room'] = training['r4t3'] / training['rooms']\n",
        "training['mobile_fraction'] = training['qmobilephone'] / training['r4t3']\n",
        "training['tablet_fraction'] = training['v18q1'] / training['r4t3']\n",
        "training['children_fraction'] = training['hogar_nin'] / training['r4t3']\n",
        "training['adult_fraction'] = training['hogar_adul'] / training['r4t3']"
      ]
    },
    {
      "cell_type": "markdown",
      "metadata": {
        "id": "6yloVF6wATyG"
      },
      "source": [
        "## Data Aggregation"
      ]
    },
    {
      "cell_type": "code",
      "execution_count": null,
      "metadata": {
        "id": "oQUhrTrnATyG"
      },
      "outputs": [],
      "source": [
        "range_ = lambda x: x.max() - x.min()\n",
        "range_.__name__ = 'range_'\n",
        "\n",
        "integer_columns = training.select_dtypes(include=integers).columns\n",
        "float_columns = training.select_dtypes(include=floats).columns\n",
        "\n",
        "train_agg = training[['idhogar', *float_columns, *integer_columns]].groupby('idhogar').agg(['min', 'max', 'sum', 'count', range_])"
      ]
    },
    {
      "cell_type": "code",
      "execution_count": null,
      "metadata": {
        "id": "XWXiUv9pATyG"
      },
      "outputs": [],
      "source": [
        "new_col = []\n",
        "for col in train_agg.columns.levels[0]:\n",
        "    for stat in train_agg.columns.levels[1]:\n",
        "        new_col.append(f'{col}-{stat}')\n",
        "\n",
        "train_agg.columns = new_col"
      ]
    },
    {
      "cell_type": "markdown",
      "metadata": {
        "id": "sn30rq5PATyH"
      },
      "source": [
        "The aggregation process generated a lot of collumns, We will remove columns that have over 0.95 correlation."
      ]
    },
    {
      "cell_type": "code",
      "execution_count": null,
      "metadata": {
        "id": "XKHJkAkuATyH",
        "colab": {
          "base_uri": "https://localhost:8080/",
          "height": 377
        },
        "outputId": "b5a8171f-e373-48fa-ce44-1b965a6911b3"
      },
      "outputs": [
        {
          "output_type": "display_data",
          "data": {
            "text/plain": [
              "<Figure size 432x288 with 2 Axes>"
            ],
            "image/png": "[encoded data removed]"
          },
          "metadata": {
            "needs_background": "light"
          }
        }
      ],
      "source": [
        "corr_matrix = train_agg.corr()\n",
        "upper = corr_matrix.where(np.triu(np.ones(corr_matrix.shape), k=1).astype(np.bool))\n",
        "to_drop = [column for column in upper.columns if any(abs(upper[column]) > 0.95)]\n",
        "\n",
        "sns.heatmap(corr_matrix.loc[to_drop, to_drop])\n",
        "\n",
        "# dropping correlated columns\n",
        "train_agg.drop(columns=to_drop, inplace=True)"
      ]
    },
    {
      "cell_type": "code",
      "execution_count": null,
      "metadata": {
        "id": "suzSsISFATyH"
      },
      "outputs": [],
      "source": [
        "# dropping Id and idhogar for training\n",
        "training.drop(columns=['Id', 'idhogar'], inplace=True)"
      ]
    },
    {
      "cell_type": "markdown",
      "metadata": {
        "id": "gviN0CD0ATyH"
      },
      "source": [
        "In order for our workflow to be more organized, The **pipe_line** function will assemble all of our preprocessing."
      ]
    },
    {
      "cell_type": "code",
      "execution_count": null,
      "metadata": {
        "id": "S1gCT_mwATyH"
      },
      "outputs": [],
      "source": [
        "def correct_label(house_hold):\n",
        "    super_label = house_hold[house_hold['parentesco1'] == 1]['Target']\n",
        "    if len(super_label) == 0:\n",
        "        house_hold['Target'] = None\n",
        "    else:\n",
        "        house_hold['Target'] = super_label.values[0]\n",
        "    return house_hold\n",
        "\n",
        "def pipe_line(df, to_drop, is_train=True):\n",
        "    \n",
        "    if is_train:\n",
        "        by_idhogar = df.copy().groupby(\"idhogar\")\n",
        "        df = by_idhogar.apply(correct_label)\n",
        "        \n",
        "        median_value = df['Target'].median().astype(np.int32)\n",
        "        df['Target'].fillna(median_value, inplace=True)\n",
        "    \n",
        "    #  mapping words to numbers\n",
        "    mapper = {\"yes\": '0',\n",
        "              \"no\": '1'}\n",
        "\n",
        "    for col in ['dependency', 'edjefe', 'edjefa']:\n",
        "        df[col] = df[col].replace(mapper).astype(np.float64)\n",
        "        \n",
        "    # diferent columns\n",
        "    integers = ['int16', 'int32', 'int64']\n",
        "    floats = ['float16', 'float32', 'float64']\n",
        "    objects = ['object']\n",
        "\n",
        "    integer_columns = df.select_dtypes(include=integers).columns\n",
        "    float_columns = df.select_dtypes(include=floats).columns\n",
        "    object_columns = df.select_dtypes(include=objects).columns\n",
        "    \n",
        "    # fixing the rent variable\n",
        "    house_ownership = df[['v2a1', 'tipovivi1', 'tipovivi2', 'tipovivi3']]\n",
        "\n",
        "    cond = df['v2a1'].isna() & (house_ownership['tipovivi1'].eq(1) | house_ownership['tipovivi2'].eq(1))\n",
        "    df['v2a1'][cond] = 0\n",
        "    median_value = df['v2a1'].median()\n",
        "    df['v2a1'].fillna(median_value, inplace=True)\n",
        "    \n",
        "    \n",
        "    # fixing number of tablets\n",
        "    df['v18q1'].fillna(0, inplace=True)\n",
        "    \n",
        "    \n",
        "    # training['rez_esc'].fillna(0, inplace=True)\n",
        "    df['rez_esc'].fillna(0, inplace=True)\n",
        "    \n",
        "    from sklearn.impute import SimpleImputer\n",
        "    cols = ['v2a1', 'v18q1', 'rez_esc', 'meaneduc', 'SQBmeaned']\n",
        "    imp_mean = SimpleImputer(missing_values=np.nan, strategy='mean')\n",
        "    imp_mean.fit(df[cols])\n",
        "    df[cols] = imp_mean.fit_transform(df[cols])\n",
        "    \n",
        "    \n",
        "    # convert one hot encodig to label encoding\n",
        "    prefixes = ['pared', 'piso', 'techo', 'abastagua', 'sanitario', 'energcocinar', 'elimbasu', \n",
        "               'epared', 'etecho', 'eviv', 'estadocivil', 'parentesco', \n",
        "               'instlevel', 'lugar', 'tipovivi',\n",
        "               'manual_elec']\n",
        "\n",
        "    for p in prefixes:\n",
        "        cols = []\n",
        "        for col in df.columns:\n",
        "            if col.startswith(p):\n",
        "                cols.append(col)\n",
        "\n",
        "        if not (df[cols].apply(axis = 1, func = sum) != 1).any():\n",
        "            df[p] = df[cols].apply(axis=1, func=np.argmax)\n",
        "            df.drop(columns=cols, inplace=True)\n",
        "\n",
        "\n",
        "    # some standard features\n",
        "    df['people_per_room'] = df['r4t3'] / df['rooms']\n",
        "    df['mobile_fraction'] = df['qmobilephone'] / df['r4t3']\n",
        "    df['tablet_fraction'] = df['v18q1'] / df['r4t3']\n",
        "    df['children_fraction'] = df['hogar_nin'] / df['r4t3']\n",
        "    df['adult_fraction'] = df['hogar_adul'] / df['r4t3']\n",
        "    \n",
        "    # data aggregation\n",
        "    range_ = lambda x: x.max() - x.min()\n",
        "    range_.__name__ = 'range_'\n",
        "    df_columns = df.columns\n",
        "    df_columns = [col for col in df_columns if col != 'Target']\n",
        "    \n",
        "    integer_columns = df[df_columns].select_dtypes(include=integers).columns\n",
        "    float_columns = df[df_columns].select_dtypes(include=floats).columns\n",
        "    cols_to_agg = ['idhogar', *float_columns, *integer_columns]\n",
        "    \n",
        "\n",
        "    df_agg = df[cols_to_agg].groupby('idhogar').agg(['min', 'max', 'sum', 'count', range_])\n",
        "    \n",
        "    \n",
        "    if is_train:\n",
        "        df_agg_target = df[['idhogar','Target']].groupby('idhogar').agg(['max'])\n",
        "    else:\n",
        "        df_agg_target = None\n",
        "\n",
        "    new_col = []\n",
        "    for col in df_agg.columns.levels[0]:\n",
        "        for stat in df_agg.columns.levels[1]:\n",
        "            new_col.append(f'{col}-{stat}')\n",
        "\n",
        "    df_agg.columns = new_col\n",
        "\n",
        "    # dropping correlated columns\n",
        "    df_agg.drop(columns=to_drop, inplace=True)\n",
        "\n",
        "    return df_agg, df_agg_target"
      ]
    },
    {
      "cell_type": "markdown",
      "metadata": {
        "id": "_PBytqOHATyI"
      },
      "source": [
        "Let's reload the training and testing set and preprocess them."
      ]
    },
    {
      "cell_type": "code",
      "execution_count": null,
      "metadata": {
        "id": "D_7TU-9kATyI"
      },
      "outputs": [],
      "source": [
        "training = pd.read_csv(\"/content/data/train.csv\")\n",
        "testing = pd.read_csv(\"/content/data/test.csv\")\n",
        "\n",
        "preprocessed_training = pipe_line(training, to_drop, is_train=True)\n",
        "preprocessed_testing = pipe_line(testing, to_drop, is_train=False)"
      ]
    },
    {
      "cell_type": "code",
      "execution_count": null,
      "metadata": {
        "id": "-M42_Z0oATyI"
      },
      "outputs": [],
      "source": [
        "X, y = preprocessed_training"
      ]
    },
    {
      "cell_type": "markdown",
      "metadata": {
        "id": "XT8NMDyKATyI"
      },
      "source": [
        "## Preparing the data for training and testing\n",
        "\n",
        "In this notebood we will focus on **XG-Boost** model, as it shown very goood results in kaggle."
      ]
    },
    {
      "cell_type": "code",
      "execution_count": null,
      "metadata": {
        "id": "-vYLeAsXATyJ"
      },
      "outputs": [],
      "source": [
        "from sklearn.model_selection import train_test_split\n",
        "\n",
        "X_train, X_test, y_train, y_test = train_test_split(X, y, test_size=0.3, random_state=314)"
      ]
    },
    {
      "cell_type": "code",
      "execution_count": null,
      "metadata": {
        "id": "kNxSLqjEATyJ",
        "colab": {
          "base_uri": "https://localhost:8080/"
        },
        "outputId": "64d156d6-18e7-438a-9f3a-62094b2eb110"
      },
      "outputs": [
        {
          "output_type": "stream",
          "name": "stdout",
          "text": [
            "Cross validation results for macro f1 score\n",
            "[0.37607062 0.3368442  0.36769722 0.37217137 0.33953743]\n",
            "0.35846416565614153\n",
            "------------------------------------------------------------\n",
            "Cross validation results for weighted f1 score\n",
            "[0.63160726 0.60696287 0.63792539 0.61769581 0.60882524]\n",
            "0.6206033126135949\n"
          ]
        }
      ],
      "source": [
        "from sklearn.ensemble import RandomForestClassifier\n",
        "from sklearn.model_selection import cross_val_score\n",
        "from sklearn.metrics import f1_score\n",
        "\n",
        "rf = RandomForestClassifier(random_state = 3)\n",
        "cv = cross_val_score(rf,X_train,y_train,cv=5, scoring='f1_macro')\n",
        "print(\"Cross validation results for macro f1 score\")\n",
        "print(cv)\n",
        "print(cv.mean())\n",
        "\n",
        "print('------------------------------------------------------------')\n",
        "\n",
        "\n",
        "rf = RandomForestClassifier(random_state = 3)\n",
        "cv = cross_val_score(rf,X_train,y_train,cv=5, scoring='f1_weighted')\n",
        "print(\"Cross validation results for weighted f1 score\")\n",
        "print(cv)\n",
        "print(cv.mean())"
      ]
    },
    {
      "cell_type": "code",
      "execution_count": null,
      "metadata": {
        "id": "mIgXlSZzATyJ",
        "colab": {
          "base_uri": "https://localhost:8080/"
        },
        "outputId": "ca32a666-313c-4cec-c846-3008d259ace1"
      },
      "outputs": [
        {
          "output_type": "stream",
          "name": "stdout",
          "text": [
            "Cross validation results for macro f1 score\n",
            "[0.37607062 0.3368442  0.36769722 0.37217137 0.33953743]\n",
            "0.35846416565614153\n",
            "------------------------------------------------------------\n",
            "Cross validation results for weighted f1 score\n",
            "[0.63160726 0.60696287 0.63792539 0.61769581 0.60882524]\n",
            "0.6206033126135949\n"
          ]
        }
      ],
      "source": [
        "from sklearn.ensemble import RandomForestClassifier\n",
        "from sklearn.model_selection import cross_val_score\n",
        "\n",
        "\n",
        "rf = RandomForestClassifier(random_state = 3)\n",
        "cv = cross_val_score(rf,X_train,y_train,cv=5, scoring='f1_macro')\n",
        "print(\"Cross validation results for macro f1 score\")\n",
        "print(cv)\n",
        "print(cv.mean())\n",
        "\n",
        "print('------------------------------------------------------------')\n",
        "\n",
        "rf = RandomForestClassifier(random_state = 3)\n",
        "cv = cross_val_score(rf,X_train,y_train,cv=5, scoring='f1_weighted')\n",
        "print(\"Cross validation results for weighted f1 score\")\n",
        "print(cv)\n",
        "print(cv.mean())"
      ]
    },
    {
      "cell_type": "markdown",
      "metadata": {
        "id": "ZtnTrlwIATyJ"
      },
      "source": [
        "## XG-Boost"
      ]
    },
    {
      "cell_type": "code",
      "execution_count": null,
      "metadata": {
        "id": "mg-SDyFYATyJ"
      },
      "outputs": [],
      "source": [
        "from xgboost import XGBClassifier\n",
        "\n",
        "xg_boost = XGBClassifier(base_score=0.5, booster='gbtree', colsample_bylevel=1,\n",
        "              colsample_bynode=1, colsample_bytree=1, gamma=0, gpu_id=0,\n",
        "              importance_type='gain', interaction_constraints='',\n",
        "              learning_rate=0.300000012, max_delta_step=0, max_depth=6,\n",
        "              min_child_weight=1,\n",
        "              #  monotone_constraints='()',\n",
        "              n_estimators=100, n_jobs=4, num_parallel_tree=1, random_state=0,\n",
        "              reg_alpha=0, reg_lambda=1, scale_pos_weight=1, subsample=1,\n",
        "              tree_method='exact', validate_parameters=1, verbosity=0)\n",
        "\n",
        "xg_boost.fit(X_train, y_train-1,  verbose=False)\n",
        "y_pred = xg_boost.predict(X_test) + 1"
      ]
    },
    {
      "cell_type": "code",
      "execution_count": null,
      "metadata": {
        "id": "2YcoIxeNATyK",
        "colab": {
          "base_uri": "https://localhost:8080/"
        },
        "outputId": "b63a20ab-cd15-42a0-d66d-c3a250c052a9"
      },
      "outputs": [
        {
          "output_type": "stream",
          "name": "stdout",
          "text": [
            "Cross validation results for macro f1 score\n",
            "0.40184495248435603\n",
            "-----------------------------------------\n",
            "Cross validation results for weighted f1 score\n",
            "0.628726107471029\n"
          ]
        }
      ],
      "source": [
        "from sklearn.metrics import f1_score\n",
        "from sklearn.metrics import accuracy_score\n",
        "\n",
        "print(\"Cross validation results for macro f1 score\")\n",
        "print(f1_score(y_test, y_pred, average='macro'))\n",
        "print('-----------------------------------------')\n",
        "print(\"Cross validation results for weighted f1 score\")\n",
        "print(f1_score(y_test, y_pred, average='weighted'))"
      ]
    },
    {
      "cell_type": "markdown",
      "metadata": {
        "id": "8sPjdtEBATyK"
      },
      "source": [
        "## Hyper Parameter Tuning\n",
        "For this task we will use **HyperOpt** a very powerful optimization library."
      ]
    },
    {
      "cell_type": "code",
      "execution_count": null,
      "metadata": {
        "id": "mJF39ZsUATyK"
      },
      "outputs": [],
      "source": [
        "import xgboost as xgb\n",
        "from hyperopt import STATUS_OK, Trials, fmin, hp, tpe\n",
        "from sklearn import metrics"
      ]
    },
    {
      "cell_type": "code",
      "execution_count": null,
      "metadata": {
        "id": "dQ_iMM9xATyK"
      },
      "outputs": [],
      "source": [
        "def custom_metric(y_test, y_pred):\n",
        "    loss = f1_score(y_test, y_pred, average='macro')\n",
        "    return loss"
      ]
    },
    {
      "cell_type": "markdown",
      "metadata": {
        "id": "5Y8oqy-1ATyK"
      },
      "source": [
        "For **hyperopt** to work we need to define a **space** (which is a range that the optimization algoritms will search for final hyper parameters values), and an **objective** function (which returns the loss for the optimzation algorithms)."
      ]
    },
    {
      "cell_type": "code",
      "execution_count": null,
      "metadata": {
        "id": "RT_sszV6ATyL",
        "colab": {
          "base_uri": "https://localhost:8080/"
        },
        "outputId": "59184c0d-3e49-4207-bed5-e8db86a5b85b"
      },
      "outputs": [
        {
          "output_type": "stream",
          "name": "stdout",
          "text": [
            "100%|██████████| 50/50 [07:59<00:00,  9.59s/it, best loss: -0.39638709717357967]\n"
          ]
        }
      ],
      "source": [
        "space = {\n",
        "    'boosting_type': hp.choice('boosting_type', \n",
        "                              [{'boosting_type': 'gbdt', \n",
        "                                'subsample': hp.uniform('gdbt_subsample', 0.5, 1),\n",
        "                                'subsample_freq': hp.quniform('gbdt_subsample_freq', 1, 10, 1)}, \n",
        "                               {'boosting_type': 'dart', \n",
        "                                 'subsample': hp.uniform('dart_subsample', 0.5, 1),\n",
        "                                 'subsample_freq': hp.quniform('dart_subsample_freq', 1, 10, 1),\n",
        "                                 'drop_rate': hp.uniform('dart_drop_rate', 0.1, 0.5)},\n",
        "                                {'boosting_type': 'goss',\n",
        "                                 'subsample': 1.0,\n",
        "                                 'subsample_freq': 0}]),\n",
        "    'limit_max_depth': hp.choice('limit_max_depth', [True, False]),\n",
        "    'max_depth': hp.quniform('max_depth', 1, 40, 1),\n",
        "    'num_leaves': hp.quniform('num_leaves', 3, 50, 1),\n",
        "    'learning_rate': hp.loguniform('learning_rate', \n",
        "                                   np.log(0.025), \n",
        "                                   np.log(0.25)),\n",
        "    'subsample_for_bin': hp.quniform('subsample_for_bin', 2000, 100000, 2000),\n",
        "    'min_child_samples': hp.quniform('min_child_samples', 5, 80, 5),\n",
        "    'reg_alpha': hp.uniform('reg_alpha', 0.0, 1.0),\n",
        "    'reg_lambda': hp.uniform('reg_lambda', 0.0, 1.0),\n",
        "    'colsample_bytree': hp.uniform('colsample_by_tree', 0.5, 1.0)\n",
        "}\n",
        "\n",
        "def objective(space):\n",
        "    xg_boost = XGBClassifier(max_depth= int(space['max_depth']),learning_rate = space['learning_rate'], \n",
        "                            reg_alpha = space['reg_alpha'], reg_lambda = space['reg_lambda'],\n",
        "                            colsample_bytree = space['colsample_bytree'])\n",
        "\n",
        "    xg_boost.fit(X_train, y_train-1, verbose=False)\n",
        "\n",
        "    y_pred = xg_boost.predict(X_test) + 1\n",
        "    loss = f1_score(y_test, y_pred, average='macro')\n",
        "    return {'loss': - loss, 'status': STATUS_OK }\n",
        "    \n",
        "trials = Trials()\n",
        "\n",
        "params = fmin(fn = objective,\n",
        "                    space = space,\n",
        "                    algo = tpe.suggest,\n",
        "                    max_evals = 50,\n",
        "                    trials = Trials(),\n",
        "                    verbose = 0\n",
        "                   )"
      ]
    },
    {
      "cell_type": "markdown",
      "metadata": {
        "id": "YUC7vKqxATyL"
      },
      "source": [
        "Final model using optimized parameters."
      ]
    },
    {
      "cell_type": "code",
      "execution_count": null,
      "metadata": {
        "id": "cvh3sCJwATyL",
        "colab": {
          "base_uri": "https://localhost:8080/"
        },
        "outputId": "2ad9631d-b64b-4fc3-ede5-dfb87729e323"
      },
      "outputs": [
        {
          "output_type": "stream",
          "name": "stdout",
          "text": [
            "Cross validation results for macro f1 score\n",
            "0.39638709717357967\n",
            "-----------------------------------------\n",
            "Cross validation results for weighted f1 score\n",
            "0.6294432971727685\n"
          ]
        }
      ],
      "source": [
        "\n",
        "model = XGBClassifier(boosting_type = params['boosting_type'], limit_max_depth = params['limit_max_depth'], max_depth= int(params['max_depth']),\n",
        "                            num_leaves = params['num_leaves'], learning_rate = params['learning_rate'], subsample_for_bin = params['subsample_for_bin'],\n",
        "                            min_child_samples = params['min_child_samples'], reg_alpha = params['reg_alpha'], reg_lambda = params['reg_lambda'],\n",
        "                            colsample_bytree = params['colsample_by_tree'])\n",
        "\n",
        "model.fit(X_train, y_train-1, verbose=False)\n",
        "\n",
        "y_pred = model.predict(X_test) + 1\n",
        "\n",
        "print(\"Cross validation results for macro f1 score\")\n",
        "print(f1_score(y_test, y_pred, average='macro'))\n",
        "print('-----------------------------------------')\n",
        "print(\"Cross validation results for weighted f1 score\")\n",
        "print(f1_score(y_test, y_pred, average='weighted'))"
      ]
    },
    {
      "cell_type": "markdown",
      "metadata": {
        "id": "yyp7sCcuAkVS"
      },
      "source": [
        "# Results\n",
        "As we can see from the last cell, our final scores are:\n",
        "* **0.63** for **Weighted f1-score**\n",
        "* **0.40** for **macro f1-score**\n",
        "\n",
        "Which are very descent scores for this kind of datasets."
      ]
    }
  ],
  "metadata": {
    "colab": {
      "provenance": [],
      "include_colab_link": true
    },
    "kernelspec": {
      "display_name": "Python 3",
      "language": "python",
      "name": "python3"
    },
    "language_info": {
      "codemirror_mode": {
        "name": "ipython",
        "version": 3
      },
      "file_extension": ".py",
      "mimetype": "text/x-python",
      "name": "python",
      "nbconvert_exporter": "python",
      "pygments_lexer": "ipython3",
      "version": "3.6.4"
    }
  },
  "nbformat": 4,
  "nbformat_minor": 0
}